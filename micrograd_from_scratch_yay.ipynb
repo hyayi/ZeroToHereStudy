{
 "cells": [
  {
   "cell_type": "code",
   "execution_count": 1,
   "metadata": {},
   "outputs": [],
   "source": [
    "import math\n",
    "import numpy as np\n",
    "import matplotlib.pyplot as plt\n",
    "%matplotlib inline"
   ]
  },
  {
   "cell_type": "code",
   "execution_count": 2,
   "metadata": {},
   "outputs": [],
   "source": [
    "def f(x):\n",
    "    return 3*x**2 -4*x + 5\n"
   ]
  },
  {
   "cell_type": "code",
   "execution_count": 3,
   "metadata": {},
   "outputs": [
    {
     "data": {
      "text/plain": [
       "20.0"
      ]
     },
     "execution_count": 3,
     "metadata": {},
     "output_type": "execute_result"
    }
   ],
   "source": [
    "f(3.0)"
   ]
  },
  {
   "cell_type": "code",
   "execution_count": 4,
   "metadata": {},
   "outputs": [
    {
     "data": {
      "text/plain": [
       "[<matplotlib.lines.Line2D at 0x206e2593730>]"
      ]
     },
     "execution_count": 4,
     "metadata": {},
     "output_type": "execute_result"
    },
    {
     "data": {
      "image/png": "[encoded data removed]",
      "text/plain": [
       "<Figure size 640x480 with 1 Axes>"
      ]
     },
     "metadata": {},
     "output_type": "display_data"
    }
   ],
   "source": [
    "xs = np.arange(-5,5,0.25)\n",
    "ys = f(xs)\n",
    "plt.plot(xs, ys)"
   ]
  },
  {
   "cell_type": "code",
   "execution_count": 5,
   "metadata": {},
   "outputs": [
    {
     "data": {
      "text/plain": [
       "0.0"
      ]
     },
     "execution_count": 5,
     "metadata": {},
     "output_type": "execute_result"
    }
   ],
   "source": [
    "# 간단한 미분의 구현 (미분의 정의를 이용)\n",
    "h = 0.00000000001\n",
    "x = 2/3\n",
    "(f(x + h) - f(x)) / h"
   ]
  },
  {
   "cell_type": "code",
   "execution_count": 6,
   "metadata": {},
   "outputs": [
    {
     "name": "stdout",
     "output_type": "stream",
     "text": [
      "4.0\n"
     ]
    }
   ],
   "source": [
    "a = 2.0\n",
    "b = -3.0\n",
    "c = 10.0\n",
    "d = a*b + c\n",
    "print(d)"
   ]
  },
  {
   "cell_type": "code",
   "execution_count": 7,
   "metadata": {},
   "outputs": [
    {
     "name": "stdout",
     "output_type": "stream",
     "text": [
      "d1 4.0\n",
      "d2 3.999699999999999\n",
      "slope -3.000000000010772\n"
     ]
    }
   ],
   "source": [
    "h = 0.0001\n",
    "\n",
    "a = 2.0\n",
    "b = -3.0\n",
    "c = 10.0\n",
    "\n",
    "## a의 변화량에 따른 값의 변화\n",
    "d1 = a*b +c\n",
    "a += h \n",
    "d2 = a*b +c\n",
    "\n",
    "print('d1', d1)\n",
    "print('d2', d2)\n",
    "print('slope', (d2-d1)/h)"
   ]
  },
  {
   "cell_type": "code",
   "execution_count": 79,
   "metadata": {},
   "outputs": [
    {
     "data": {
      "text/plain": [
       "Value(data=-8.0)"
      ]
     },
     "execution_count": 79,
     "metadata": {},
     "output_type": "execute_result"
    }
   ],
   "source": [
    "## repr는  Representation의 약자로 \n",
    "## _children 연산과정을 기억하기 위해 사용\n",
    "class Value:\n",
    "    def __init__(self, data, _children=(), _op='', label=''):\n",
    "        self.data = data\n",
    "        self.grad = 0.0\n",
    "        self._backward = lambda: None\n",
    "        self._prev = set(_children)\n",
    "        self._op = _op\n",
    "        self.label = label\n",
    "    def __repr__(self):\n",
    "        return f\"Value(data={self.data})\"\n",
    "    def __add__(self, other):\n",
    "        out = Value(self.data + other.data, (self, other),'+')\n",
    "        \n",
    "        def _backward():\n",
    "            self.grad = 1.0 *  out.grad\n",
    "            other.grad = 1.0 * out.grad\n",
    "        out._backward = _backward\n",
    "            \n",
    "        return out \n",
    "    def __mul__(self, other):\n",
    "        out = Value(self.data * other.data, (self, other),'*')\n",
    "        \n",
    "        def _backward():\n",
    "            self.grad = other.data *  out.grad\n",
    "            other.grad = self.data * out.grad\n",
    "            \n",
    "        out._backward = _backward\n",
    "        return out\n",
    "    \n",
    "    def tanh(self):\n",
    "        x = self.data\n",
    "        t = (math.exp(2*x) -1)/(math.exp(2*x) +1)\n",
    "        out = Value(t, (self, ),'tanh')\n",
    "        \n",
    "        def _backward():\n",
    "            self.grad = (1 - t**2) * out.grad\n",
    "        out._backward = _backward\n",
    "        \n",
    "        return out \n",
    "        \n",
    "\n",
    "a = Value(2.0, label='a')\n",
    "b = Value(-3.0, label='b')\n",
    "c = Value(10.0, label='c')\n",
    "e = a*b; e.label = 'e'\n",
    "d = e + c; d.label = 'd'\n",
    "f = Value(-2.0, label='f')\n",
    "L = d * f ; L.label = 'L'\n",
    "L\n"
   ]
  },
  {
   "cell_type": "code",
   "execution_count": 67,
   "metadata": {},
   "outputs": [],
   "source": [
    "from graphviz import Digraph\n",
    "\n",
    "def trance(root):\n",
    "    nodes, edges = set(), list()\n",
    "    def build(v):\n",
    "        if v not in nodes:\n",
    "            nodes.add(v)\n",
    "            for child in v._prev:\n",
    "                edges.append((child, v))\n",
    "                build(child)\n",
    "    build(root)\n",
    "    return nodes, edges\n",
    "\n",
    "def draw_dot(root):\n",
    "    dot = Digraph(format='svg', graph_attr={'rankdir':'LR'}) ##왼쪽에서 오른쪽으로\n",
    "    \n",
    "    nodes, edges = trance(root)\n",
    "    for n in nodes:\n",
    "        uid = str(id(n))\n",
    "        dot.node(uid, label=\"%s | data %.4f | grad %.4f\" % (n.label,n.data,n.grad), shape ='recod')\n",
    "        if n._op:\n",
    "            dot.node(name=uid + n._op, label=n._op)\n",
    "            dot.edge(uid + n._op, uid)\n",
    "    \n",
    "    for n1, n2 in edges:\n",
    "        dot.edge(str(id(n1)), str(id(n2))+n2._op)\n",
    "    \n",
    "    return dot"
   ]
  },
  {
   "cell_type": "code",
   "execution_count": 68,
   "metadata": {},
   "outputs": [],
   "source": [
    "import os\n",
    "os.environ[\"PATH\"]+=os.pathsep+'C:/Program Files (x86)/Graphviz2.38/bin/'"
   ]
  },
  {
   "cell_type": "code",
   "execution_count": 69,
   "metadata": {},
   "outputs": [
    {
     "name": "stderr",
     "output_type": "stream",
     "text": [
      "Warning: using box for unknown shape recod\n"
     ]
    },
    {
     "data": {
      "image/svg+xml": "<?xml version=\"1.0\" encoding=\"UTF-8\" standalone=\"no\"?>\n<!DOCTYPE svg PUBLIC \"-//W3C//DTD SVG 1.1//EN\"\n \"http://www.w3.org/Graphics/SVG/1.1/DTD/svg11.dtd\">\n<!-- Generated by graphviz version 7.1.0 (20230121.1956)\n -->\n<!-- Pages: 1 -->\n<svg width=\"1100pt\" height=\"152pt\"\n viewBox=\"0.00 0.00 1100.00 152.00\" xmlns=\"http://www.w3.org/2000/svg\" xmlns:xlink=\"http://www.w3.org/1999/xlink\">\n<g id=\"graph0\" class=\"graph\" transform=\"scale(1 1) rotate(0) translate(4 148)\">\n<polygon fill=\"white\" stroke=\"none\" points=\"-4,4 -4,-148 1096,-148 1096,4 -4,4\"/>\n<!-- 2228600612384 -->\n<g id=\"node1\" class=\"node\">\n<title>2228600612384</title>\n<polygon fill=\"none\" stroke=\"black\" points=\"787,-144 611,-144 611,-108 787,-108 787,-144\"/>\n<text text-anchor=\"middle\" x=\"699\" y=\"-122.3\" font-family=\"Times New Roman,serif\" font-size=\"14.00\">f | data &#45;2.0000 | grad 0.0000</text>\n</g>\n<!-- 2228600606480* -->\n<g id=\"node7\" class=\"node\">\n<title>2228600606480*</title>\n<ellipse fill=\"none\" stroke=\"black\" cx=\"850\" cy=\"-99\" rx=\"27\" ry=\"18\"/>\n<text text-anchor=\"middle\" x=\"850\" y=\"-95.3\" font-family=\"Times New Roman,serif\" font-size=\"14.00\">*</text>\n</g>\n<!-- 2228600612384&#45;&gt;2228600606480* -->\n<g id=\"edge4\" class=\"edge\">\n<title>2228600612384&#45;&gt;2228600606480*</title>\n<path fill=\"none\" stroke=\"black\" d=\"M787.11,-110.22C795.9,-108.62 804.46,-107.07 812.26,-105.66\"/>\n<polygon fill=\"black\" stroke=\"black\" points=\"812.76,-109.12 821.97,-103.9 811.51,-102.24 812.76,-109.12\"/>\n</g>\n<!-- 2228600606768 -->\n<g id=\"node2\" class=\"node\">\n<title>2228600606768</title>\n<polygon fill=\"none\" stroke=\"black\" points=\"485,-117 305,-117 305,-81 485,-81 485,-117\"/>\n<text text-anchor=\"middle\" x=\"395\" y=\"-95.3\" font-family=\"Times New Roman,serif\" font-size=\"14.00\">c | data 10.0000 | grad 0.0000</text>\n</g>\n<!-- 2228600612720+ -->\n<g id=\"node10\" class=\"node\">\n<title>2228600612720+</title>\n<ellipse fill=\"none\" stroke=\"black\" cx=\"548\" cy=\"-72\" rx=\"27\" ry=\"18\"/>\n<text text-anchor=\"middle\" x=\"548\" y=\"-68.3\" font-family=\"Times New Roman,serif\" font-size=\"14.00\">+</text>\n</g>\n<!-- 2228600606768&#45;&gt;2228600612720+ -->\n<g id=\"edge6\" class=\"edge\">\n<title>2228600606768&#45;&gt;2228600612720+</title>\n<path fill=\"none\" stroke=\"black\" d=\"M485.15,-83.06C493.97,-81.48 502.53,-79.95 510.33,-78.56\"/>\n<polygon fill=\"black\" stroke=\"black\" points=\"510.81,-82.03 520.03,-76.82 509.57,-75.14 510.81,-82.03\"/>\n</g>\n<!-- 2228600615504 -->\n<g id=\"node3\" class=\"node\">\n<title>2228600615504</title>\n<polygon fill=\"none\" stroke=\"black\" points=\"483.5,-63 306.5,-63 306.5,-27 483.5,-27 483.5,-63\"/>\n<text text-anchor=\"middle\" x=\"395\" y=\"-41.3\" font-family=\"Times New Roman,serif\" font-size=\"14.00\">e | data &#45;6.0000 | grad 0.0000</text>\n</g>\n<!-- 2228600615504&#45;&gt;2228600612720+ -->\n<g id=\"edge7\" class=\"edge\">\n<title>2228600615504&#45;&gt;2228600612720+</title>\n<path fill=\"none\" stroke=\"black\" d=\"M483.84,-60.71C493.08,-62.36 502.07,-63.97 510.23,-65.42\"/>\n<polygon fill=\"black\" stroke=\"black\" points=\"509.57,-68.86 520.03,-67.18 510.81,-61.97 509.57,-68.86\"/>\n</g>\n<!-- 2228600615504* -->\n<g id=\"node4\" class=\"node\">\n<title>2228600615504*</title>\n<ellipse fill=\"none\" stroke=\"black\" cx=\"242\" cy=\"-45\" rx=\"27\" ry=\"18\"/>\n<text text-anchor=\"middle\" x=\"242\" y=\"-41.3\" font-family=\"Times New Roman,serif\" font-size=\"14.00\">*</text>\n</g>\n<!-- 2228600615504*&#45;&gt;2228600615504 -->\n<g id=\"edge1\" class=\"edge\">\n<title>2228600615504*&#45;&gt;2228600615504</title>\n<path fill=\"none\" stroke=\"black\" d=\"M269.3,-45C276.81,-45 285.47,-45 294.65,-45\"/>\n<polygon fill=\"black\" stroke=\"black\" points=\"294.56,-48.5 304.56,-45 294.56,-41.5 294.56,-48.5\"/>\n</g>\n<!-- 2228600615168 -->\n<g id=\"node5\" class=\"node\">\n<title>2228600615168</title>\n<polygon fill=\"none\" stroke=\"black\" points=\"176,-90 3,-90 3,-54 176,-54 176,-90\"/>\n<text text-anchor=\"middle\" x=\"89.5\" y=\"-68.3\" font-family=\"Times New Roman,serif\" font-size=\"14.00\">a | data 2.0000 | grad 0.0000</text>\n</g>\n<!-- 2228600615168&#45;&gt;2228600615504* -->\n<g id=\"edge8\" class=\"edge\">\n<title>2228600615168&#45;&gt;2228600615504*</title>\n<path fill=\"none\" stroke=\"black\" d=\"M176.3,-56.61C186.1,-54.85 195.66,-53.13 204.29,-51.58\"/>\n<polygon fill=\"black\" stroke=\"black\" points=\"204.71,-55.07 213.94,-49.86 203.48,-48.18 204.71,-55.07\"/>\n</g>\n<!-- 2228600606480 -->\n<g id=\"node6\" class=\"node\">\n<title>2228600606480</title>\n<polygon fill=\"none\" stroke=\"black\" points=\"1092,-117 913,-117 913,-81 1092,-81 1092,-117\"/>\n<text text-anchor=\"middle\" x=\"1002.5\" y=\"-95.3\" font-family=\"Times New Roman,serif\" font-size=\"14.00\">L | data &#45;8.0000 | grad 0.0000</text>\n</g>\n<!-- 2228600606480*&#45;&gt;2228600606480 -->\n<g id=\"edge2\" class=\"edge\">\n<title>2228600606480*&#45;&gt;2228600606480</title>\n<path fill=\"none\" stroke=\"black\" d=\"M877.22,-99C884.38,-99 892.6,-99 901.31,-99\"/>\n<polygon fill=\"black\" stroke=\"black\" points=\"901.07,-102.5 911.07,-99 901.07,-95.5 901.07,-102.5\"/>\n</g>\n<!-- 2228600607008 -->\n<g id=\"node8\" class=\"node\">\n<title>2228600607008</title>\n<polygon fill=\"none\" stroke=\"black\" points=\"179,-36 0,-36 0,0 179,0 179,-36\"/>\n<text text-anchor=\"middle\" x=\"89.5\" y=\"-14.3\" font-family=\"Times New Roman,serif\" font-size=\"14.00\">b | data &#45;3.0000 | grad 0.0000</text>\n</g>\n<!-- 2228600607008&#45;&gt;2228600615504* -->\n<g id=\"edge9\" class=\"edge\">\n<title>2228600607008&#45;&gt;2228600615504*</title>\n<path fill=\"none\" stroke=\"black\" d=\"M179.35,-33.94C188.14,-35.52 196.68,-37.05 204.45,-38.44\"/>\n<polygon fill=\"black\" stroke=\"black\" points=\"203.66,-41.86 214.12,-40.18 204.89,-34.97 203.66,-41.86\"/>\n</g>\n<!-- 2228600612720 -->\n<g id=\"node9\" class=\"node\">\n<title>2228600612720</title>\n<polygon fill=\"none\" stroke=\"black\" points=\"786,-90 612,-90 612,-54 786,-54 786,-90\"/>\n<text text-anchor=\"middle\" x=\"699\" y=\"-68.3\" font-family=\"Times New Roman,serif\" font-size=\"14.00\">d | data 4.0000 | grad 0.0000</text>\n</g>\n<!-- 2228600612720&#45;&gt;2228600606480* -->\n<g id=\"edge5\" class=\"edge\">\n<title>2228600612720&#45;&gt;2228600606480*</title>\n<path fill=\"none\" stroke=\"black\" d=\"M786.24,-87.63C795.41,-89.29 804.33,-90.91 812.44,-92.37\"/>\n<polygon fill=\"black\" stroke=\"black\" points=\"811.71,-95.8 822.17,-94.14 812.96,-88.91 811.71,-95.8\"/>\n</g>\n<!-- 2228600612720+&#45;&gt;2228600612720 -->\n<g id=\"edge3\" class=\"edge\">\n<title>2228600612720+&#45;&gt;2228600612720</title>\n<path fill=\"none\" stroke=\"black\" d=\"M575.3,-72C582.72,-72 591.26,-72 600.31,-72\"/>\n<polygon fill=\"black\" stroke=\"black\" points=\"600.05,-75.5 610.05,-72 600.05,-68.5 600.05,-75.5\"/>\n</g>\n</g>\n</svg>\n",
      "text/plain": [
       "<graphviz.graphs.Digraph at 0x206e2f2b040>"
      ]
     },
     "execution_count": 69,
     "metadata": {},
     "output_type": "execute_result"
    }
   ],
   "source": [
    "draw_dot(L)"
   ]
  },
  {
   "attachments": {},
   "cell_type": "markdown",
   "metadata": {},
   "source": [
    "L = d * f\n",
    "\n",
    "dL/dd = ? f \n",
    "\n",
    "(f)\n"
   ]
  },
  {
   "cell_type": "code",
   "execution_count": 70,
   "metadata": {},
   "outputs": [
    {
     "name": "stdout",
     "output_type": "stream",
     "text": [
      "1.000000000000334\n"
     ]
    }
   ],
   "source": [
    "def lol():\n",
    "    h = 0.001\n",
    "    a = Value(2.0, label='a')\n",
    "    b = Value(-3.0, label='b')\n",
    "    c = Value(10.0, label='c')\n",
    "    e = a*b; e.label = 'e'\n",
    "    d = e + c; d.label = 'd'\n",
    "    f = Value(-2.0, label='f')\n",
    "    L = d * f ; L.label = 'L'\n",
    "    L1 = L.data\n",
    "    \n",
    "    a = Value(2.0, label='a')\n",
    "    b = Value(-3.0, label='b')\n",
    "    c = Value(10.0, label='c')\n",
    "    e = a*b; e.label = 'e'\n",
    "    d = e + c; d.label = 'd'\n",
    "    f = Value(-2.0, label='f')\n",
    "    L = d * f ; L.label = 'L'\n",
    "    L2 = L.data + h\n",
    "    \n",
    "    print((L2 -L1) /h)\n",
    "lol()"
   ]
  },
  {
   "cell_type": "code",
   "execution_count": 71,
   "metadata": {},
   "outputs": [
    {
     "data": {
      "image/png": "[encoded data removed]",
      "text/plain": [
       "<Figure size 640x480 with 1 Axes>"
      ]
     },
     "metadata": {},
     "output_type": "display_data"
    }
   ],
   "source": [
    "plt.plot(np.arange(-5,5,0.2), np.tanh(np.arange(-5,5,0.2))); plt.grid()"
   ]
  },
  {
   "cell_type": "code",
   "execution_count": 80,
   "metadata": {},
   "outputs": [
    {
     "name": "stderr",
     "output_type": "stream",
     "text": [
      "Warning: using box for unknown shape recod\n"
     ]
    },
    {
     "data": {
      "image/svg+xml": "<?xml version=\"1.0\" encoding=\"UTF-8\" standalone=\"no\"?>\n<!DOCTYPE svg PUBLIC \"-//W3C//DTD SVG 1.1//EN\"\n \"http://www.w3.org/Graphics/SVG/1.1/DTD/svg11.dtd\">\n<!-- Generated by graphviz version 7.1.0 (20230121.1956)\n -->\n<!-- Pages: 1 -->\n<svg width=\"1479pt\" height=\"206pt\"\n viewBox=\"0.00 0.00 1479.00 206.00\" xmlns=\"http://www.w3.org/2000/svg\" xmlns:xlink=\"http://www.w3.org/1999/xlink\">\n<g id=\"graph0\" class=\"graph\" transform=\"scale(1 1) rotate(0) translate(4 202)\">\n<polygon fill=\"white\" stroke=\"none\" points=\"-4,4 -4,-202 1475,-202 1475,4 -4,4\"/>\n<!-- 2228612035584 -->\n<g id=\"node1\" class=\"node\">\n<title>2228612035584</title>\n<polygon fill=\"none\" stroke=\"black\" points=\"872,-117 641,-117 641,-81 872,-81 872,-117\"/>\n<text text-anchor=\"middle\" x=\"756.5\" y=\"-95.3\" font-family=\"Times New Roman,serif\" font-size=\"14.00\">x1w1x2w2 | data &#45;3.0000 | grad 0.0000</text>\n</g>\n<!-- 2228612035296+ -->\n<g id=\"node8\" class=\"node\">\n<title>2228612035296+</title>\n<ellipse fill=\"none\" stroke=\"black\" cx=\"935\" cy=\"-126\" rx=\"27\" ry=\"18\"/>\n<text text-anchor=\"middle\" x=\"935\" y=\"-122.3\" font-family=\"Times New Roman,serif\" font-size=\"14.00\">+</text>\n</g>\n<!-- 2228612035584&#45;&gt;2228612035296+ -->\n<g id=\"edge7\" class=\"edge\">\n<title>2228612035584&#45;&gt;2228612035296+</title>\n<path fill=\"none\" stroke=\"black\" d=\"M872.27,-116.56C881,-117.89 889.34,-119.17 896.92,-120.33\"/>\n<polygon fill=\"black\" stroke=\"black\" points=\"896.23,-123.76 906.64,-121.82 897.29,-116.84 896.23,-123.76\"/>\n</g>\n<!-- 2228612035584+ -->\n<g id=\"node2\" class=\"node\">\n<title>2228612035584+</title>\n<ellipse fill=\"none\" stroke=\"black\" cx=\"578\" cy=\"-99\" rx=\"27\" ry=\"18\"/>\n<text text-anchor=\"middle\" x=\"578\" y=\"-95.3\" font-family=\"Times New Roman,serif\" font-size=\"14.00\">+</text>\n</g>\n<!-- 2228612035584+&#45;&gt;2228612035584 -->\n<g id=\"edge1\" class=\"edge\">\n<title>2228612035584+&#45;&gt;2228612035584</title>\n<path fill=\"none\" stroke=\"black\" d=\"M605.42,-99C612.46,-99 620.54,-99 629.23,-99\"/>\n<polygon fill=\"black\" stroke=\"black\" points=\"629.02,-102.5 639.02,-99 629.02,-95.5 629.02,-102.5\"/>\n</g>\n<!-- 2228612027040 -->\n<g id=\"node3\" class=\"node\">\n<title>2228612027040</title>\n<polygon fill=\"none\" stroke=\"black\" points=\"515,-144 314,-144 314,-108 515,-108 515,-144\"/>\n<text text-anchor=\"middle\" x=\"414.5\" y=\"-122.3\" font-family=\"Times New Roman,serif\" font-size=\"14.00\">x1w1 | data &#45;3.0000 | grad 0.0000</text>\n</g>\n<!-- 2228612027040&#45;&gt;2228612035584+ -->\n<g id=\"edge8\" class=\"edge\">\n<title>2228612027040&#45;&gt;2228612035584+</title>\n<path fill=\"none\" stroke=\"black\" d=\"M515.48,-109.28C524.12,-107.84 532.45,-106.45 540.04,-105.18\"/>\n<polygon fill=\"black\" stroke=\"black\" points=\"540.51,-108.65 549.8,-103.55 539.36,-101.74 540.51,-108.65\"/>\n</g>\n<!-- 2228612027040* -->\n<g id=\"node4\" class=\"node\">\n<title>2228612027040*</title>\n<ellipse fill=\"none\" stroke=\"black\" cx=\"251\" cy=\"-126\" rx=\"27\" ry=\"18\"/>\n<text text-anchor=\"middle\" x=\"251\" y=\"-122.3\" font-family=\"Times New Roman,serif\" font-size=\"14.00\">*</text>\n</g>\n<!-- 2228612027040*&#45;&gt;2228612027040 -->\n<g id=\"edge2\" class=\"edge\">\n<title>2228612027040*&#45;&gt;2228612027040</title>\n<path fill=\"none\" stroke=\"black\" d=\"M278.31,-126C285.41,-126 293.56,-126 302.27,-126\"/>\n<polygon fill=\"black\" stroke=\"black\" points=\"302.04,-129.5 312.04,-126 302.04,-122.5 302.04,-129.5\"/>\n</g>\n<!-- 2228612035776 -->\n<g id=\"node5\" class=\"node\">\n<title>2228612035776</title>\n<polygon fill=\"none\" stroke=\"black\" points=\"513,-90 316,-90 316,-54 513,-54 513,-90\"/>\n<text text-anchor=\"middle\" x=\"414.5\" y=\"-68.3\" font-family=\"Times New Roman,serif\" font-size=\"14.00\">x2w2 | data 0.0000 | grad 0.0000</text>\n</g>\n<!-- 2228612035776&#45;&gt;2228612035584+ -->\n<g id=\"edge11\" class=\"edge\">\n<title>2228612035776&#45;&gt;2228612035584+</title>\n<path fill=\"none\" stroke=\"black\" d=\"M513.17,-88.33C522.74,-89.93 531.98,-91.47 540.32,-92.87\"/>\n<polygon fill=\"black\" stroke=\"black\" points=\"539.51,-96.28 549.95,-94.48 540.66,-89.38 539.51,-96.28\"/>\n</g>\n<!-- 2228612035776* -->\n<g id=\"node6\" class=\"node\">\n<title>2228612035776*</title>\n<ellipse fill=\"none\" stroke=\"black\" cx=\"251\" cy=\"-72\" rx=\"27\" ry=\"18\"/>\n<text text-anchor=\"middle\" x=\"251\" y=\"-68.3\" font-family=\"Times New Roman,serif\" font-size=\"14.00\">*</text>\n</g>\n<!-- 2228612035776*&#45;&gt;2228612035776 -->\n<g id=\"edge3\" class=\"edge\">\n<title>2228612035776*&#45;&gt;2228612035776</title>\n<path fill=\"none\" stroke=\"black\" d=\"M278.31,-72C285.95,-72 294.82,-72 304.28,-72\"/>\n<polygon fill=\"black\" stroke=\"black\" points=\"304.11,-75.5 314.11,-72 304.11,-68.5 304.11,-75.5\"/>\n</g>\n<!-- 2228612035296 -->\n<g id=\"node7\" class=\"node\">\n<title>2228612035296</title>\n<polygon fill=\"none\" stroke=\"black\" points=\"1171,-144 998,-144 998,-108 1171,-108 1171,-144\"/>\n<text text-anchor=\"middle\" x=\"1084.5\" y=\"-122.3\" font-family=\"Times New Roman,serif\" font-size=\"14.00\">n | data 3.8814 | grad 0.0000</text>\n</g>\n<!-- 2228612023152tanh -->\n<g id=\"node14\" class=\"node\">\n<title>2228612023152tanh</title>\n<ellipse fill=\"none\" stroke=\"black\" cx=\"1234\" cy=\"-126\" rx=\"27\" ry=\"18\"/>\n<text text-anchor=\"middle\" x=\"1234\" y=\"-122.3\" font-family=\"Times New Roman,serif\" font-size=\"14.00\">tanh</text>\n</g>\n<!-- 2228612035296&#45;&gt;2228612023152tanh -->\n<g id=\"edge6\" class=\"edge\">\n<title>2228612035296&#45;&gt;2228612023152tanh</title>\n<path fill=\"none\" stroke=\"black\" d=\"M1171.3,-126C1179.6,-126 1187.69,-126 1195.14,-126\"/>\n<polygon fill=\"black\" stroke=\"black\" points=\"1195.1,-129.5 1205.1,-126 1195.1,-122.5 1195.1,-129.5\"/>\n</g>\n<!-- 2228612035296+&#45;&gt;2228612035296 -->\n<g id=\"edge4\" class=\"edge\">\n<title>2228612035296+&#45;&gt;2228612035296</title>\n<path fill=\"none\" stroke=\"black\" d=\"M962.37,-126C969.46,-126 977.56,-126 986.13,-126\"/>\n<polygon fill=\"black\" stroke=\"black\" points=\"986.12,-129.5 996.12,-126 986.12,-122.5 986.12,-129.5\"/>\n</g>\n<!-- 2228612034288 -->\n<g id=\"node9\" class=\"node\">\n<title>2228612034288</title>\n<polygon fill=\"none\" stroke=\"black\" points=\"843.5,-171 669.5,-171 669.5,-135 843.5,-135 843.5,-171\"/>\n<text text-anchor=\"middle\" x=\"756.5\" y=\"-149.3\" font-family=\"Times New Roman,serif\" font-size=\"14.00\">b | data 6.8814 | grad 0.0000</text>\n</g>\n<!-- 2228612034288&#45;&gt;2228612035296+ -->\n<g id=\"edge14\" class=\"edge\">\n<title>2228612034288&#45;&gt;2228612035296+</title>\n<path fill=\"none\" stroke=\"black\" d=\"M843.94,-139.78C862.73,-136.9 881.63,-134.01 897.24,-131.62\"/>\n<polygon fill=\"black\" stroke=\"black\" points=\"897.61,-135.11 906.97,-130.13 896.56,-128.19 897.61,-135.11\"/>\n</g>\n<!-- 2228612031744 -->\n<g id=\"node10\" class=\"node\">\n<title>2228612031744</title>\n<polygon fill=\"none\" stroke=\"black\" points=\"185.5,-90 2.5,-90 2.5,-54 185.5,-54 185.5,-90\"/>\n<text text-anchor=\"middle\" x=\"94\" y=\"-68.3\" font-family=\"Times New Roman,serif\" font-size=\"14.00\">w2 | data 1.0000 | grad 0.0000</text>\n</g>\n<!-- 2228612031744&#45;&gt;2228612035776* -->\n<g id=\"edge12\" class=\"edge\">\n<title>2228612031744&#45;&gt;2228612035776*</title>\n<path fill=\"none\" stroke=\"black\" d=\"M185.61,-72C194.96,-72 204.05,-72 212.3,-72\"/>\n<polygon fill=\"black\" stroke=\"black\" points=\"212.23,-75.5 222.23,-72 212.23,-68.5 212.23,-75.5\"/>\n</g>\n<!-- 2228612031792 -->\n<g id=\"node11\" class=\"node\">\n<title>2228612031792</title>\n<polygon fill=\"none\" stroke=\"black\" points=\"188,-198 0,-198 0,-162 188,-162 188,-198\"/>\n<text text-anchor=\"middle\" x=\"94\" y=\"-176.3\" font-family=\"Times New Roman,serif\" font-size=\"14.00\">w1 | data &#45;3.0000 | grad 0.0000</text>\n</g>\n<!-- 2228612031792&#45;&gt;2228612027040* -->\n<g id=\"edge9\" class=\"edge\">\n<title>2228612031792&#45;&gt;2228612027040*</title>\n<path fill=\"none\" stroke=\"black\" d=\"M162.38,-161.55C171.06,-158.85 179.78,-155.97 188,-153 197.87,-149.44 208.4,-145.07 217.93,-140.9\"/>\n<polygon fill=\"black\" stroke=\"black\" points=\"219.1,-144.21 226.8,-136.94 216.24,-137.82 219.1,-144.21\"/>\n</g>\n<!-- 2228612034384 -->\n<g id=\"node12\" class=\"node\">\n<title>2228612034384</title>\n<polygon fill=\"none\" stroke=\"black\" points=\"184,-144 4,-144 4,-108 184,-108 184,-144\"/>\n<text text-anchor=\"middle\" x=\"94\" y=\"-122.3\" font-family=\"Times New Roman,serif\" font-size=\"14.00\">x1 | data 1.0000 | grad 0.0000</text>\n</g>\n<!-- 2228612034384&#45;&gt;2228612027040* -->\n<g id=\"edge10\" class=\"edge\">\n<title>2228612034384&#45;&gt;2228612027040*</title>\n<path fill=\"none\" stroke=\"black\" d=\"M184.27,-126C194.17,-126 203.81,-126 212.51,-126\"/>\n<polygon fill=\"black\" stroke=\"black\" points=\"212.24,-129.5 222.24,-126 212.24,-122.5 212.24,-129.5\"/>\n</g>\n<!-- 2228612023152 -->\n<g id=\"node13\" class=\"node\">\n<title>2228612023152</title>\n<polygon fill=\"none\" stroke=\"black\" points=\"1471,-144 1297,-144 1297,-108 1471,-108 1471,-144\"/>\n<text text-anchor=\"middle\" x=\"1384\" y=\"-122.3\" font-family=\"Times New Roman,serif\" font-size=\"14.00\">o | data 0.9991 | grad 0.0000</text>\n</g>\n<!-- 2228612023152tanh&#45;&gt;2228612023152 -->\n<g id=\"edge5\" class=\"edge\">\n<title>2228612023152tanh&#45;&gt;2228612023152</title>\n<path fill=\"none\" stroke=\"black\" d=\"M1261.46,-126C1268.51,-126 1276.56,-126 1285.09,-126\"/>\n<polygon fill=\"black\" stroke=\"black\" points=\"1285.02,-129.5 1295.02,-126 1285.02,-122.5 1285.02,-129.5\"/>\n</g>\n<!-- 2228612027280 -->\n<g id=\"node15\" class=\"node\">\n<title>2228612027280</title>\n<polygon fill=\"none\" stroke=\"black\" points=\"184,-36 4,-36 4,0 184,0 184,-36\"/>\n<text text-anchor=\"middle\" x=\"94\" y=\"-14.3\" font-family=\"Times New Roman,serif\" font-size=\"14.00\">x2 | data 0.0000 | grad 0.0000</text>\n</g>\n<!-- 2228612027280&#45;&gt;2228612035776* -->\n<g id=\"edge13\" class=\"edge\">\n<title>2228612027280&#45;&gt;2228612035776*</title>\n<path fill=\"none\" stroke=\"black\" d=\"M162.38,-36.45C171.06,-39.15 179.78,-42.03 188,-45 197.87,-48.56 208.4,-52.93 217.93,-57.1\"/>\n<polygon fill=\"black\" stroke=\"black\" points=\"216.24,-60.18 226.8,-61.06 219.1,-53.79 216.24,-60.18\"/>\n</g>\n</g>\n</svg>\n",
      "text/plain": [
       "<graphviz.graphs.Digraph at 0x206e3a0c490>"
      ]
     },
     "execution_count": 80,
     "metadata": {},
     "output_type": "execute_result"
    }
   ],
   "source": [
    "# input x1, x2\n",
    "x1 = Value(1.0, label='x1')\n",
    "x2 = Value(0.0, label='x2')\n",
    "\n",
    "# weight w1, w2\n",
    "w1 = Value(-3.0, label='w1')\n",
    "w2 = Value(1.0, label='w2')\n",
    "\n",
    "# bias of the neuron\n",
    "b = Value(6.881373587019432, label='b')\n",
    "\n",
    "# x1*w1 + x2*w2 + b\n",
    "x1w1 = x1 * w1; x1w1.label = 'x1w1'\n",
    "x2w2 = x2 * w2; x2w2.label = 'x2w2'\n",
    "x1w1x2w2 = x1w1 + x2w2; x1w1x2w2.label = 'x1w1x2w2'\n",
    "n = x1w1x2w2 + b; n.label = 'n'\n",
    "o = n.tanh(); o.label = 'o'\n",
    "draw_dot(o)"
   ]
  },
  {
   "cell_type": "code",
   "execution_count": 84,
   "metadata": {},
   "outputs": [
    {
     "data": {
      "text/plain": [
       "Value(data=0.9991497883076874)"
      ]
     },
     "execution_count": 84,
     "metadata": {},
     "output_type": "execute_result"
    }
   ],
   "source": [
    "o"
   ]
  },
  {
   "cell_type": "code",
   "execution_count": 82,
   "metadata": {},
   "outputs": [],
   "source": [
    "o._backward()\n"
   ]
  },
  {
   "cell_type": "code",
   "execution_count": 83,
   "metadata": {},
   "outputs": [
    {
     "name": "stderr",
     "output_type": "stream",
     "text": [
      "Warning: using box for unknown shape recod\n"
     ]
    },
    {
     "data": {
      "image/svg+xml": "<?xml version=\"1.0\" encoding=\"UTF-8\" standalone=\"no\"?>\n<!DOCTYPE svg PUBLIC \"-//W3C//DTD SVG 1.1//EN\"\n \"http://www.w3.org/Graphics/SVG/1.1/DTD/svg11.dtd\">\n<!-- Generated by graphviz version 7.1.0 (20230121.1956)\n -->\n<!-- Pages: 1 -->\n<svg width=\"1479pt\" height=\"206pt\"\n viewBox=\"0.00 0.00 1479.00 206.00\" xmlns=\"http://www.w3.org/2000/svg\" xmlns:xlink=\"http://www.w3.org/1999/xlink\">\n<g id=\"graph0\" class=\"graph\" transform=\"scale(1 1) rotate(0) translate(4 202)\">\n<polygon fill=\"white\" stroke=\"none\" points=\"-4,4 -4,-202 1475,-202 1475,4 -4,4\"/>\n<!-- 2228612035584 -->\n<g id=\"node1\" class=\"node\">\n<title>2228612035584</title>\n<polygon fill=\"none\" stroke=\"black\" points=\"872,-117 641,-117 641,-81 872,-81 872,-117\"/>\n<text text-anchor=\"middle\" x=\"756.5\" y=\"-95.3\" font-family=\"Times New Roman,serif\" font-size=\"14.00\">x1w1x2w2 | data &#45;3.0000 | grad 0.0000</text>\n</g>\n<!-- 2228612035296+ -->\n<g id=\"node8\" class=\"node\">\n<title>2228612035296+</title>\n<ellipse fill=\"none\" stroke=\"black\" cx=\"935\" cy=\"-126\" rx=\"27\" ry=\"18\"/>\n<text text-anchor=\"middle\" x=\"935\" y=\"-122.3\" font-family=\"Times New Roman,serif\" font-size=\"14.00\">+</text>\n</g>\n<!-- 2228612035584&#45;&gt;2228612035296+ -->\n<g id=\"edge7\" class=\"edge\">\n<title>2228612035584&#45;&gt;2228612035296+</title>\n<path fill=\"none\" stroke=\"black\" d=\"M872.27,-116.56C881,-117.89 889.34,-119.17 896.92,-120.33\"/>\n<polygon fill=\"black\" stroke=\"black\" points=\"896.23,-123.76 906.64,-121.82 897.29,-116.84 896.23,-123.76\"/>\n</g>\n<!-- 2228612035584+ -->\n<g id=\"node2\" class=\"node\">\n<title>2228612035584+</title>\n<ellipse fill=\"none\" stroke=\"black\" cx=\"578\" cy=\"-99\" rx=\"27\" ry=\"18\"/>\n<text text-anchor=\"middle\" x=\"578\" y=\"-95.3\" font-family=\"Times New Roman,serif\" font-size=\"14.00\">+</text>\n</g>\n<!-- 2228612035584+&#45;&gt;2228612035584 -->\n<g id=\"edge1\" class=\"edge\">\n<title>2228612035584+&#45;&gt;2228612035584</title>\n<path fill=\"none\" stroke=\"black\" d=\"M605.42,-99C612.46,-99 620.54,-99 629.23,-99\"/>\n<polygon fill=\"black\" stroke=\"black\" points=\"629.02,-102.5 639.02,-99 629.02,-95.5 629.02,-102.5\"/>\n</g>\n<!-- 2228612027040 -->\n<g id=\"node3\" class=\"node\">\n<title>2228612027040</title>\n<polygon fill=\"none\" stroke=\"black\" points=\"515,-144 314,-144 314,-108 515,-108 515,-144\"/>\n<text text-anchor=\"middle\" x=\"414.5\" y=\"-122.3\" font-family=\"Times New Roman,serif\" font-size=\"14.00\">x1w1 | data &#45;3.0000 | grad 0.0000</text>\n</g>\n<!-- 2228612027040&#45;&gt;2228612035584+ -->\n<g id=\"edge8\" class=\"edge\">\n<title>2228612027040&#45;&gt;2228612035584+</title>\n<path fill=\"none\" stroke=\"black\" d=\"M515.48,-109.28C524.12,-107.84 532.45,-106.45 540.04,-105.18\"/>\n<polygon fill=\"black\" stroke=\"black\" points=\"540.51,-108.65 549.8,-103.55 539.36,-101.74 540.51,-108.65\"/>\n</g>\n<!-- 2228612027040* -->\n<g id=\"node4\" class=\"node\">\n<title>2228612027040*</title>\n<ellipse fill=\"none\" stroke=\"black\" cx=\"251\" cy=\"-126\" rx=\"27\" ry=\"18\"/>\n<text text-anchor=\"middle\" x=\"251\" y=\"-122.3\" font-family=\"Times New Roman,serif\" font-size=\"14.00\">*</text>\n</g>\n<!-- 2228612027040*&#45;&gt;2228612027040 -->\n<g id=\"edge2\" class=\"edge\">\n<title>2228612027040*&#45;&gt;2228612027040</title>\n<path fill=\"none\" stroke=\"black\" d=\"M278.31,-126C285.41,-126 293.56,-126 302.27,-126\"/>\n<polygon fill=\"black\" stroke=\"black\" points=\"302.04,-129.5 312.04,-126 302.04,-122.5 302.04,-129.5\"/>\n</g>\n<!-- 2228612035776 -->\n<g id=\"node5\" class=\"node\">\n<title>2228612035776</title>\n<polygon fill=\"none\" stroke=\"black\" points=\"513,-90 316,-90 316,-54 513,-54 513,-90\"/>\n<text text-anchor=\"middle\" x=\"414.5\" y=\"-68.3\" font-family=\"Times New Roman,serif\" font-size=\"14.00\">x2w2 | data 0.0000 | grad 0.0000</text>\n</g>\n<!-- 2228612035776&#45;&gt;2228612035584+ -->\n<g id=\"edge11\" class=\"edge\">\n<title>2228612035776&#45;&gt;2228612035584+</title>\n<path fill=\"none\" stroke=\"black\" d=\"M513.17,-88.33C522.74,-89.93 531.98,-91.47 540.32,-92.87\"/>\n<polygon fill=\"black\" stroke=\"black\" points=\"539.51,-96.28 549.95,-94.48 540.66,-89.38 539.51,-96.28\"/>\n</g>\n<!-- 2228612035776* -->\n<g id=\"node6\" class=\"node\">\n<title>2228612035776*</title>\n<ellipse fill=\"none\" stroke=\"black\" cx=\"251\" cy=\"-72\" rx=\"27\" ry=\"18\"/>\n<text text-anchor=\"middle\" x=\"251\" y=\"-68.3\" font-family=\"Times New Roman,serif\" font-size=\"14.00\">*</text>\n</g>\n<!-- 2228612035776*&#45;&gt;2228612035776 -->\n<g id=\"edge3\" class=\"edge\">\n<title>2228612035776*&#45;&gt;2228612035776</title>\n<path fill=\"none\" stroke=\"black\" d=\"M278.31,-72C285.95,-72 294.82,-72 304.28,-72\"/>\n<polygon fill=\"black\" stroke=\"black\" points=\"304.11,-75.5 314.11,-72 304.11,-68.5 304.11,-75.5\"/>\n</g>\n<!-- 2228612035296 -->\n<g id=\"node7\" class=\"node\">\n<title>2228612035296</title>\n<polygon fill=\"none\" stroke=\"black\" points=\"1171,-144 998,-144 998,-108 1171,-108 1171,-144\"/>\n<text text-anchor=\"middle\" x=\"1084.5\" y=\"-122.3\" font-family=\"Times New Roman,serif\" font-size=\"14.00\">n | data 3.8814 | grad 0.0017</text>\n</g>\n<!-- 2228612023152tanh -->\n<g id=\"node14\" class=\"node\">\n<title>2228612023152tanh</title>\n<ellipse fill=\"none\" stroke=\"black\" cx=\"1234\" cy=\"-126\" rx=\"27\" ry=\"18\"/>\n<text text-anchor=\"middle\" x=\"1234\" y=\"-122.3\" font-family=\"Times New Roman,serif\" font-size=\"14.00\">tanh</text>\n</g>\n<!-- 2228612035296&#45;&gt;2228612023152tanh -->\n<g id=\"edge6\" class=\"edge\">\n<title>2228612035296&#45;&gt;2228612023152tanh</title>\n<path fill=\"none\" stroke=\"black\" d=\"M1171.3,-126C1179.6,-126 1187.69,-126 1195.14,-126\"/>\n<polygon fill=\"black\" stroke=\"black\" points=\"1195.1,-129.5 1205.1,-126 1195.1,-122.5 1195.1,-129.5\"/>\n</g>\n<!-- 2228612035296+&#45;&gt;2228612035296 -->\n<g id=\"edge4\" class=\"edge\">\n<title>2228612035296+&#45;&gt;2228612035296</title>\n<path fill=\"none\" stroke=\"black\" d=\"M962.37,-126C969.46,-126 977.56,-126 986.13,-126\"/>\n<polygon fill=\"black\" stroke=\"black\" points=\"986.12,-129.5 996.12,-126 986.12,-122.5 986.12,-129.5\"/>\n</g>\n<!-- 2228612034288 -->\n<g id=\"node9\" class=\"node\">\n<title>2228612034288</title>\n<polygon fill=\"none\" stroke=\"black\" points=\"843.5,-171 669.5,-171 669.5,-135 843.5,-135 843.5,-171\"/>\n<text text-anchor=\"middle\" x=\"756.5\" y=\"-149.3\" font-family=\"Times New Roman,serif\" font-size=\"14.00\">b | data 6.8814 | grad 0.0000</text>\n</g>\n<!-- 2228612034288&#45;&gt;2228612035296+ -->\n<g id=\"edge14\" class=\"edge\">\n<title>2228612034288&#45;&gt;2228612035296+</title>\n<path fill=\"none\" stroke=\"black\" d=\"M843.94,-139.78C862.73,-136.9 881.63,-134.01 897.24,-131.62\"/>\n<polygon fill=\"black\" stroke=\"black\" points=\"897.61,-135.11 906.97,-130.13 896.56,-128.19 897.61,-135.11\"/>\n</g>\n<!-- 2228612031744 -->\n<g id=\"node10\" class=\"node\">\n<title>2228612031744</title>\n<polygon fill=\"none\" stroke=\"black\" points=\"185.5,-90 2.5,-90 2.5,-54 185.5,-54 185.5,-90\"/>\n<text text-anchor=\"middle\" x=\"94\" y=\"-68.3\" font-family=\"Times New Roman,serif\" font-size=\"14.00\">w2 | data 1.0000 | grad 0.0000</text>\n</g>\n<!-- 2228612031744&#45;&gt;2228612035776* -->\n<g id=\"edge12\" class=\"edge\">\n<title>2228612031744&#45;&gt;2228612035776*</title>\n<path fill=\"none\" stroke=\"black\" d=\"M185.61,-72C194.96,-72 204.05,-72 212.3,-72\"/>\n<polygon fill=\"black\" stroke=\"black\" points=\"212.23,-75.5 222.23,-72 212.23,-68.5 212.23,-75.5\"/>\n</g>\n<!-- 2228612031792 -->\n<g id=\"node11\" class=\"node\">\n<title>2228612031792</title>\n<polygon fill=\"none\" stroke=\"black\" points=\"188,-198 0,-198 0,-162 188,-162 188,-198\"/>\n<text text-anchor=\"middle\" x=\"94\" y=\"-176.3\" font-family=\"Times New Roman,serif\" font-size=\"14.00\">w1 | data &#45;3.0000 | grad 0.0000</text>\n</g>\n<!-- 2228612031792&#45;&gt;2228612027040* -->\n<g id=\"edge9\" class=\"edge\">\n<title>2228612031792&#45;&gt;2228612027040*</title>\n<path fill=\"none\" stroke=\"black\" d=\"M162.38,-161.55C171.06,-158.85 179.78,-155.97 188,-153 197.87,-149.44 208.4,-145.07 217.93,-140.9\"/>\n<polygon fill=\"black\" stroke=\"black\" points=\"219.1,-144.21 226.8,-136.94 216.24,-137.82 219.1,-144.21\"/>\n</g>\n<!-- 2228612034384 -->\n<g id=\"node12\" class=\"node\">\n<title>2228612034384</title>\n<polygon fill=\"none\" stroke=\"black\" points=\"184,-144 4,-144 4,-108 184,-108 184,-144\"/>\n<text text-anchor=\"middle\" x=\"94\" y=\"-122.3\" font-family=\"Times New Roman,serif\" font-size=\"14.00\">x1 | data 1.0000 | grad 0.0000</text>\n</g>\n<!-- 2228612034384&#45;&gt;2228612027040* -->\n<g id=\"edge10\" class=\"edge\">\n<title>2228612034384&#45;&gt;2228612027040*</title>\n<path fill=\"none\" stroke=\"black\" d=\"M184.27,-126C194.17,-126 203.81,-126 212.51,-126\"/>\n<polygon fill=\"black\" stroke=\"black\" points=\"212.24,-129.5 222.24,-126 212.24,-122.5 212.24,-129.5\"/>\n</g>\n<!-- 2228612023152 -->\n<g id=\"node13\" class=\"node\">\n<title>2228612023152</title>\n<polygon fill=\"none\" stroke=\"black\" points=\"1471,-144 1297,-144 1297,-108 1471,-108 1471,-144\"/>\n<text text-anchor=\"middle\" x=\"1384\" y=\"-122.3\" font-family=\"Times New Roman,serif\" font-size=\"14.00\">o | data 0.9991 | grad 1.0000</text>\n</g>\n<!-- 2228612023152tanh&#45;&gt;2228612023152 -->\n<g id=\"edge5\" class=\"edge\">\n<title>2228612023152tanh&#45;&gt;2228612023152</title>\n<path fill=\"none\" stroke=\"black\" d=\"M1261.46,-126C1268.51,-126 1276.56,-126 1285.09,-126\"/>\n<polygon fill=\"black\" stroke=\"black\" points=\"1285.02,-129.5 1295.02,-126 1285.02,-122.5 1285.02,-129.5\"/>\n</g>\n<!-- 2228612027280 -->\n<g id=\"node15\" class=\"node\">\n<title>2228612027280</title>\n<polygon fill=\"none\" stroke=\"black\" points=\"184,-36 4,-36 4,0 184,0 184,-36\"/>\n<text text-anchor=\"middle\" x=\"94\" y=\"-14.3\" font-family=\"Times New Roman,serif\" font-size=\"14.00\">x2 | data 0.0000 | grad 0.0000</text>\n</g>\n<!-- 2228612027280&#45;&gt;2228612035776* -->\n<g id=\"edge13\" class=\"edge\">\n<title>2228612027280&#45;&gt;2228612035776*</title>\n<path fill=\"none\" stroke=\"black\" d=\"M162.38,-36.45C171.06,-39.15 179.78,-42.03 188,-45 197.87,-48.56 208.4,-52.93 217.93,-57.1\"/>\n<polygon fill=\"black\" stroke=\"black\" points=\"216.24,-60.18 226.8,-61.06 219.1,-53.79 216.24,-60.18\"/>\n</g>\n</g>\n</svg>\n",
      "text/plain": [
       "<graphviz.graphs.Digraph at 0x206e3a0ce80>"
      ]
     },
     "execution_count": 83,
     "metadata": {},
     "output_type": "execute_result"
    }
   ],
   "source": [
    "draw_dot(o)"
   ]
  },
  {
   "cell_type": "code",
   "execution_count": null,
   "metadata": {},
   "outputs": [],
   "source": []
  }
 ],
 "metadata": {
  "kernelspec": {
   "display_name": "monai",
   "language": "python",
   "name": "python3"
  },
  "language_info": {
   "codemirror_mode": {
    "name": "ipython",
    "version": 3
   },
   "file_extension": ".py",
   "mimetype": "text/x-python",
   "name": "python",
   "nbconvert_exporter": "python",
   "pygments_lexer": "ipython3",
   "version": "3.10.6"
  },
  "orig_nbformat": 4,
  "vscode": {
   "interpreter": {
    "hash": "e21402f43875f5569f3df54104f19551925d990f816aafe3db5bccc29e096f43"
   }
  }
 },
 "nbformat": 4,
 "nbformat_minor": 2
}
