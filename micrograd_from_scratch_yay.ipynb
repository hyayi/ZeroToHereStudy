{
 "cells": [
  {
   "cell_type": "code",
   "execution_count": 1,
   "metadata": {},
   "outputs": [],
   "source": [
    "import math\n",
    "import numpy as np\n",
    "import matplotlib.pyplot as plt\n",
    "%matplotlib inline"
   ]
  },
  {
   "cell_type": "code",
   "execution_count": 2,
   "metadata": {},
   "outputs": [],
   "source": [
    "def f(x):\n",
    "    return 3*x**2 -4*x + 5\n"
   ]
  },
  {
   "cell_type": "code",
   "execution_count": 3,
   "metadata": {},
   "outputs": [
    {
     "data": {
      "text/plain": [
       "20.0"
      ]
     },
     "execution_count": 3,
     "metadata": {},
     "output_type": "execute_result"
    }
   ],
   "source": [
    "f(3.0)"
   ]
  },
  {
   "cell_type": "code",
   "execution_count": 4,
   "metadata": {},
   "outputs": [
    {
     "data": {
      "text/plain": [
       "[<matplotlib.lines.Line2D at 0x266e3b0b6a0>]"
      ]
     },
     "execution_count": 4,
     "metadata": {},
     "output_type": "execute_result"
    },
    {
     "data": {
      "image/png": "[encoded data removed]",
      "text/plain": [
       "<Figure size 640x480 with 1 Axes>"
      ]
     },
     "metadata": {},
     "output_type": "display_data"
    }
   ],
   "source": [
    "xs = np.arange(-5,5,0.25)\n",
    "ys = f(xs)\n",
    "plt.plot(xs, ys)"
   ]
  },
  {
   "cell_type": "code",
   "execution_count": 5,
   "metadata": {},
   "outputs": [
    {
     "data": {
      "text/plain": [
       "0.0"
      ]
     },
     "execution_count": 5,
     "metadata": {},
     "output_type": "execute_result"
    }
   ],
   "source": [
    "# 간단한 미분의 구현 (미분의 정의를 이용)\n",
    "h = 0.00000000001\n",
    "x = 2/3\n",
    "(f(x + h) - f(x)) / h"
   ]
  },
  {
   "cell_type": "code",
   "execution_count": 6,
   "metadata": {},
   "outputs": [
    {
     "name": "stdout",
     "output_type": "stream",
     "text": [
      "4.0\n"
     ]
    }
   ],
   "source": [
    "a = 2.0\n",
    "b = -3.0\n",
    "c = 10.0\n",
    "d = a*b + c\n",
    "print(d)"
   ]
  },
  {
   "cell_type": "code",
   "execution_count": 7,
   "metadata": {},
   "outputs": [
    {
     "name": "stdout",
     "output_type": "stream",
     "text": [
      "d1 4.0\n",
      "d2 3.999699999999999\n",
      "slope -3.000000000010772\n"
     ]
    }
   ],
   "source": [
    "h = 0.0001\n",
    "\n",
    "a = 2.0\n",
    "b = -3.0\n",
    "c = 10.0\n",
    "\n",
    "## a의 변화량에 따른 값의 변화\n",
    "d1 = a*b +c\n",
    "a += h \n",
    "d2 = a*b +c\n",
    "\n",
    "print('d1', d1)\n",
    "print('d2', d2)\n",
    "print('slope', (d2-d1)/h)"
   ]
  },
  {
   "cell_type": "code",
   "execution_count": 22,
   "metadata": {},
   "outputs": [],
   "source": [
    "## repr는  Representation의 약자로 \n",
    "## _children 연산과정을 기억하기 위해 사용\n",
    "class Value:\n",
    "    def __init__(self, data, _children=(), _op='', label=''):\n",
    "        self.data = data\n",
    "        self.grad = 0.0\n",
    "        self._backward = lambda: None\n",
    "        self._prev = set(_children)\n",
    "        self._op = _op\n",
    "        self.label = label\n",
    "    def __repr__(self):\n",
    "        return f\"Value(data={self.data})\"\n",
    "    def __add__(self, other):\n",
    "        other = other if isinstance(other, Value) else Value(other)\n",
    "        out = Value(self.data + other.data, (self, other),'+')\n",
    "        \n",
    "        def _backward():\n",
    "            self.grad += 1.0 *  out.grad\n",
    "            other.grad += 1.0 * out.grad\n",
    "        out._backward = _backward\n",
    "            \n",
    "        return out \n",
    "    \n",
    "    def __mul__(self, other):\n",
    "        other = other if isinstance(other, Value) else Value(other)\n",
    "        out = Value(self.data * other.data, (self, other),'*')\n",
    "        \n",
    "        def _backward():\n",
    "            self.grad += other.data *  out.grad\n",
    "            other.grad += self.data * out.grad\n",
    "            \n",
    "        out._backward = _backward\n",
    "        return out\n",
    "    \n",
    "    def __rmul__(self, other):\n",
    "        return self * other\n",
    "\n",
    "    def __truediv__(self, other):\n",
    "        return self*other**-1\n",
    "    \n",
    "    def __pow__(self, other):\n",
    "        assert isinstance(other,(int,float)),\"only support int or float\"\n",
    "        out = Value(self.data**other, (self, ),f'**{other}')\n",
    "        \n",
    "        def _backward():\n",
    "            self.grad += other * self.data**(other-1) * out.grad\n",
    "        out._backward = _backward\n",
    "        \n",
    "        return out \n",
    "    \n",
    "    def __neg__(self):\n",
    "        return self * -1\n",
    "    \n",
    "    def __sub__(self, other):\n",
    "        return self + (-other)\n",
    "    \n",
    "    def exp(self):\n",
    "        x = self.data\n",
    "        out = Value(math.exp(x), (self, ),'exp')\n",
    "        \n",
    "        def _backward():\n",
    "            self.grad += out.data * out.grad\n",
    "        out._backward = _backward\n",
    "        return out \n",
    "    \n",
    "    def tanh(self):\n",
    "        x = self.data\n",
    "        t = (math.exp(2*x) -1)/(math.exp(2*x) +1)\n",
    "        out = Value(t, (self, ),'tanh')\n",
    "        \n",
    "        def _backward():\n",
    "            self.grad += (1 - t**2) * out.grad\n",
    "        out._backward = _backward\n",
    "        \n",
    "        return out \n",
    "    \n",
    "    def backward(self):\n",
    "        \n",
    "        topo = []\n",
    "        visited = set()\n",
    "        def build_topo(v):\n",
    "            if v not in visited:\n",
    "                visited.add(v)\n",
    "                for child in v._prev:\n",
    "                    build_topo(child)\n",
    "                topo.append(v)\n",
    "        build_topo(self)\n",
    "        \n",
    "        self.grad = 1.0\n",
    "        for node in reversed(topo):\n",
    "            node._backward()\n"
   ]
  },
  {
   "cell_type": "code",
   "execution_count": 23,
   "metadata": {},
   "outputs": [
    {
     "data": {
      "text/plain": [
       "Value(data=2.0)"
      ]
     },
     "execution_count": 23,
     "metadata": {},
     "output_type": "execute_result"
    }
   ],
   "source": [
    "a = Value(2.0)\n",
    "b = Value(4.0)\n",
    "b - a"
   ]
  },
  {
   "cell_type": "code",
   "execution_count": 24,
   "metadata": {},
   "outputs": [],
   "source": [
    "from graphviz import Digraph\n",
    "\n",
    "def trance(root):\n",
    "    nodes, edges = set(), list()\n",
    "    def build(v):\n",
    "        if v not in nodes:\n",
    "            nodes.add(v)\n",
    "            for child in v._prev:\n",
    "                edges.append((child, v))\n",
    "                build(child)\n",
    "    build(root)\n",
    "    return nodes, edges\n",
    "\n",
    "def draw_dot(root):\n",
    "    dot = Digraph(format='svg', graph_attr={'rankdir':'LR'}) ##왼쪽에서 오른쪽으로\n",
    "    \n",
    "    nodes, edges = trance(root)\n",
    "    for n in nodes:\n",
    "        uid = str(id(n))\n",
    "        dot.node(uid, label=\"%s | data %.4f | grad %.4f\" % (n.label,n.data,n.grad), shape ='recod')\n",
    "        if n._op:\n",
    "            dot.node(name=uid + n._op, label=n._op)\n",
    "            dot.edge(uid + n._op, uid)\n",
    "    \n",
    "    for n1, n2 in edges:\n",
    "        dot.edge(str(id(n1)), str(id(n2))+n2._op)\n",
    "    \n",
    "    return dot"
   ]
  },
  {
   "cell_type": "code",
   "execution_count": 28,
   "metadata": {},
   "outputs": [],
   "source": [
    "# input x1, x2\n",
    "x1 = Value(1.0, label='x1')\n",
    "x2 = Value(0.0, label='x2')\n",
    "\n",
    "# weight w1, w2\n",
    "w1 = Value(-3.0, label='w1')\n",
    "w2 = Value(1.0, label='w2')\n",
    "\n",
    "# bias of the neuron\n",
    "b = Value(6.881373587019432, label='b')\n",
    "\n",
    "# x1*w1 + x2*w2 + b\n",
    "x1w1 = x1 * w1; x1w1.label = 'x1w1'\n",
    "x2w2 = x2 * w2; x2w2.label = 'x2w2'\n",
    "x1w1x2w2 = x1w1 + x2w2; x1w1x2w2.label = 'x1w1x2w2'\n",
    "n = x1w1x2w2 + b; n.label = 'n'\n",
    "o = n.tanh(); o.label = 'o'\n",
    "o.backward()"
   ]
  },
  {
   "cell_type": "code",
   "execution_count": 29,
   "metadata": {},
   "outputs": [
    {
     "name": "stderr",
     "output_type": "stream",
     "text": [
      "Warning: using box for unknown shape recod\n"
     ]
    },
    {
     "data": {
      "image/svg+xml": "<?xml version=\"1.0\" encoding=\"UTF-8\" standalone=\"no\"?>\n<!DOCTYPE svg PUBLIC \"-//W3C//DTD SVG 1.1//EN\"\n \"http://www.w3.org/Graphics/SVG/1.1/DTD/svg11.dtd\">\n<!-- Generated by graphviz version 7.1.0 (20230121.1956)\n -->\n<!-- Pages: 1 -->\n<svg width=\"1479pt\" height=\"206pt\"\n viewBox=\"0.00 0.00 1479.00 206.00\" xmlns=\"http://www.w3.org/2000/svg\" xmlns:xlink=\"http://www.w3.org/1999/xlink\">\n<g id=\"graph0\" class=\"graph\" transform=\"scale(1 1) rotate(0) translate(4 202)\">\n<polygon fill=\"white\" stroke=\"none\" points=\"-4,4 -4,-202 1475,-202 1475,4 -4,4\"/>\n<!-- 2097539285536 -->\n<g id=\"node1\" class=\"node\">\n<title>2097539285536</title>\n<polygon fill=\"none\" stroke=\"black\" points=\"843.5,-171 669.5,-171 669.5,-135 843.5,-135 843.5,-171\"/>\n<text text-anchor=\"middle\" x=\"756.5\" y=\"-149.3\" font-family=\"Times New Roman,serif\" font-size=\"14.00\">b | data 6.8814 | grad 0.0017</text>\n</g>\n<!-- 2097539291728+ -->\n<g id=\"node5\" class=\"node\">\n<title>2097539291728+</title>\n<ellipse fill=\"none\" stroke=\"black\" cx=\"935\" cy=\"-126\" rx=\"27\" ry=\"18\"/>\n<text text-anchor=\"middle\" x=\"935\" y=\"-122.3\" font-family=\"Times New Roman,serif\" font-size=\"14.00\">+</text>\n</g>\n<!-- 2097539285536&#45;&gt;2097539291728+ -->\n<g id=\"edge7\" class=\"edge\">\n<title>2097539285536&#45;&gt;2097539291728+</title>\n<path fill=\"none\" stroke=\"black\" d=\"M843.94,-139.78C862.73,-136.9 881.63,-134.01 897.24,-131.62\"/>\n<polygon fill=\"black\" stroke=\"black\" points=\"897.61,-135.11 906.97,-130.13 896.56,-128.19 897.61,-135.11\"/>\n</g>\n<!-- 2097539293216 -->\n<g id=\"node2\" class=\"node\">\n<title>2097539293216</title>\n<polygon fill=\"none\" stroke=\"black\" points=\"513,-144 316,-144 316,-108 513,-108 513,-144\"/>\n<text text-anchor=\"middle\" x=\"414.5\" y=\"-122.3\" font-family=\"Times New Roman,serif\" font-size=\"14.00\">x2w2 | data 0.0000 | grad 0.0017</text>\n</g>\n<!-- 2097539292496+ -->\n<g id=\"node10\" class=\"node\">\n<title>2097539292496+</title>\n<ellipse fill=\"none\" stroke=\"black\" cx=\"578\" cy=\"-99\" rx=\"27\" ry=\"18\"/>\n<text text-anchor=\"middle\" x=\"578\" y=\"-95.3\" font-family=\"Times New Roman,serif\" font-size=\"14.00\">+</text>\n</g>\n<!-- 2097539293216&#45;&gt;2097539292496+ -->\n<g id=\"edge9\" class=\"edge\">\n<title>2097539293216&#45;&gt;2097539292496+</title>\n<path fill=\"none\" stroke=\"black\" d=\"M513.17,-109.67C522.74,-108.07 531.98,-106.53 540.32,-105.13\"/>\n<polygon fill=\"black\" stroke=\"black\" points=\"540.66,-108.62 549.95,-103.52 539.51,-101.72 540.66,-108.62\"/>\n</g>\n<!-- 2097539293216* -->\n<g id=\"node3\" class=\"node\">\n<title>2097539293216*</title>\n<ellipse fill=\"none\" stroke=\"black\" cx=\"251\" cy=\"-126\" rx=\"27\" ry=\"18\"/>\n<text text-anchor=\"middle\" x=\"251\" y=\"-122.3\" font-family=\"Times New Roman,serif\" font-size=\"14.00\">*</text>\n</g>\n<!-- 2097539293216*&#45;&gt;2097539293216 -->\n<g id=\"edge1\" class=\"edge\">\n<title>2097539293216*&#45;&gt;2097539293216</title>\n<path fill=\"none\" stroke=\"black\" d=\"M278.31,-126C285.95,-126 294.82,-126 304.28,-126\"/>\n<polygon fill=\"black\" stroke=\"black\" points=\"304.11,-129.5 314.11,-126 304.11,-122.5 304.11,-129.5\"/>\n</g>\n<!-- 2097539291728 -->\n<g id=\"node4\" class=\"node\">\n<title>2097539291728</title>\n<polygon fill=\"none\" stroke=\"black\" points=\"1171,-144 998,-144 998,-108 1171,-108 1171,-144\"/>\n<text text-anchor=\"middle\" x=\"1084.5\" y=\"-122.3\" font-family=\"Times New Roman,serif\" font-size=\"14.00\">n | data 3.8814 | grad 0.0017</text>\n</g>\n<!-- 2097539297488tanh -->\n<g id=\"node7\" class=\"node\">\n<title>2097539297488tanh</title>\n<ellipse fill=\"none\" stroke=\"black\" cx=\"1234\" cy=\"-126\" rx=\"27\" ry=\"18\"/>\n<text text-anchor=\"middle\" x=\"1234\" y=\"-122.3\" font-family=\"Times New Roman,serif\" font-size=\"14.00\">tanh</text>\n</g>\n<!-- 2097539291728&#45;&gt;2097539297488tanh -->\n<g id=\"edge6\" class=\"edge\">\n<title>2097539291728&#45;&gt;2097539297488tanh</title>\n<path fill=\"none\" stroke=\"black\" d=\"M1171.3,-126C1179.6,-126 1187.69,-126 1195.14,-126\"/>\n<polygon fill=\"black\" stroke=\"black\" points=\"1195.1,-129.5 1205.1,-126 1195.1,-122.5 1195.1,-129.5\"/>\n</g>\n<!-- 2097539291728+&#45;&gt;2097539291728 -->\n<g id=\"edge2\" class=\"edge\">\n<title>2097539291728+&#45;&gt;2097539291728</title>\n<path fill=\"none\" stroke=\"black\" d=\"M962.37,-126C969.46,-126 977.56,-126 986.13,-126\"/>\n<polygon fill=\"black\" stroke=\"black\" points=\"986.12,-129.5 996.12,-126 986.12,-122.5 986.12,-129.5\"/>\n</g>\n<!-- 2097539297488 -->\n<g id=\"node6\" class=\"node\">\n<title>2097539297488</title>\n<polygon fill=\"none\" stroke=\"black\" points=\"1471,-144 1297,-144 1297,-108 1471,-108 1471,-144\"/>\n<text text-anchor=\"middle\" x=\"1384\" y=\"-122.3\" font-family=\"Times New Roman,serif\" font-size=\"14.00\">o | data 0.9991 | grad 1.0000</text>\n</g>\n<!-- 2097539297488tanh&#45;&gt;2097539297488 -->\n<g id=\"edge3\" class=\"edge\">\n<title>2097539297488tanh&#45;&gt;2097539297488</title>\n<path fill=\"none\" stroke=\"black\" d=\"M1261.46,-126C1268.51,-126 1276.56,-126 1285.09,-126\"/>\n<polygon fill=\"black\" stroke=\"black\" points=\"1285.02,-129.5 1295.02,-126 1285.02,-122.5 1285.02,-129.5\"/>\n</g>\n<!-- 2097540780272 -->\n<g id=\"node8\" class=\"node\">\n<title>2097540780272</title>\n<polygon fill=\"none\" stroke=\"black\" points=\"184,-198 4,-198 4,-162 184,-162 184,-198\"/>\n<text text-anchor=\"middle\" x=\"94\" y=\"-176.3\" font-family=\"Times New Roman,serif\" font-size=\"14.00\">x2 | data 0.0000 | grad 0.0017</text>\n</g>\n<!-- 2097540780272&#45;&gt;2097539293216* -->\n<g id=\"edge11\" class=\"edge\">\n<title>2097540780272&#45;&gt;2097539293216*</title>\n<path fill=\"none\" stroke=\"black\" d=\"M162.38,-161.55C171.06,-158.85 179.78,-155.97 188,-153 197.87,-149.44 208.4,-145.07 217.93,-140.9\"/>\n<polygon fill=\"black\" stroke=\"black\" points=\"219.1,-144.21 226.8,-136.94 216.24,-137.82 219.1,-144.21\"/>\n</g>\n<!-- 2097539292496 -->\n<g id=\"node9\" class=\"node\">\n<title>2097539292496</title>\n<polygon fill=\"none\" stroke=\"black\" points=\"872,-117 641,-117 641,-81 872,-81 872,-117\"/>\n<text text-anchor=\"middle\" x=\"756.5\" y=\"-95.3\" font-family=\"Times New Roman,serif\" font-size=\"14.00\">x1w1x2w2 | data &#45;3.0000 | grad 0.0017</text>\n</g>\n<!-- 2097539292496&#45;&gt;2097539291728+ -->\n<g id=\"edge8\" class=\"edge\">\n<title>2097539292496&#45;&gt;2097539291728+</title>\n<path fill=\"none\" stroke=\"black\" d=\"M872.27,-116.56C881,-117.89 889.34,-119.17 896.92,-120.33\"/>\n<polygon fill=\"black\" stroke=\"black\" points=\"896.23,-123.76 906.64,-121.82 897.29,-116.84 896.23,-123.76\"/>\n</g>\n<!-- 2097539292496+&#45;&gt;2097539292496 -->\n<g id=\"edge4\" class=\"edge\">\n<title>2097539292496+&#45;&gt;2097539292496</title>\n<path fill=\"none\" stroke=\"black\" d=\"M605.42,-99C612.46,-99 620.54,-99 629.23,-99\"/>\n<polygon fill=\"black\" stroke=\"black\" points=\"629.02,-102.5 639.02,-99 629.02,-95.5 629.02,-102.5\"/>\n</g>\n<!-- 2097539577168 -->\n<g id=\"node11\" class=\"node\">\n<title>2097539577168</title>\n<polygon fill=\"none\" stroke=\"black\" points=\"186.5,-90 1.5,-90 1.5,-54 186.5,-54 186.5,-90\"/>\n<text text-anchor=\"middle\" x=\"94\" y=\"-68.3\" font-family=\"Times New Roman,serif\" font-size=\"14.00\">x1 | data 1.0000 | grad &#45;0.0051</text>\n</g>\n<!-- 2097539293168* -->\n<g id=\"node15\" class=\"node\">\n<title>2097539293168*</title>\n<ellipse fill=\"none\" stroke=\"black\" cx=\"251\" cy=\"-72\" rx=\"27\" ry=\"18\"/>\n<text text-anchor=\"middle\" x=\"251\" y=\"-68.3\" font-family=\"Times New Roman,serif\" font-size=\"14.00\">*</text>\n</g>\n<!-- 2097539577168&#45;&gt;2097539293168* -->\n<g id=\"edge14\" class=\"edge\">\n<title>2097539577168&#45;&gt;2097539293168*</title>\n<path fill=\"none\" stroke=\"black\" d=\"M186.96,-72C195.87,-72 204.53,-72 212.42,-72\"/>\n<polygon fill=\"black\" stroke=\"black\" points=\"212.24,-75.5 222.24,-72 212.24,-68.5 212.24,-75.5\"/>\n</g>\n<!-- 2097539378592 -->\n<g id=\"node12\" class=\"node\">\n<title>2097539378592</title>\n<polygon fill=\"none\" stroke=\"black\" points=\"188,-36 0,-36 0,0 188,0 188,-36\"/>\n<text text-anchor=\"middle\" x=\"94\" y=\"-14.3\" font-family=\"Times New Roman,serif\" font-size=\"14.00\">w1 | data &#45;3.0000 | grad 0.0017</text>\n</g>\n<!-- 2097539378592&#45;&gt;2097539293168* -->\n<g id=\"edge13\" class=\"edge\">\n<title>2097539378592&#45;&gt;2097539293168*</title>\n<path fill=\"none\" stroke=\"black\" d=\"M162.38,-36.45C171.06,-39.15 179.78,-42.03 188,-45 197.87,-48.56 208.4,-52.93 217.93,-57.1\"/>\n<polygon fill=\"black\" stroke=\"black\" points=\"216.24,-60.18 226.8,-61.06 219.1,-53.79 216.24,-60.18\"/>\n</g>\n<!-- 2097539293120 -->\n<g id=\"node13\" class=\"node\">\n<title>2097539293120</title>\n<polygon fill=\"none\" stroke=\"black\" points=\"185.5,-144 2.5,-144 2.5,-108 185.5,-108 185.5,-144\"/>\n<text text-anchor=\"middle\" x=\"94\" y=\"-122.3\" font-family=\"Times New Roman,serif\" font-size=\"14.00\">w2 | data 1.0000 | grad 0.0000</text>\n</g>\n<!-- 2097539293120&#45;&gt;2097539293216* -->\n<g id=\"edge10\" class=\"edge\">\n<title>2097539293120&#45;&gt;2097539293216*</title>\n<path fill=\"none\" stroke=\"black\" d=\"M185.61,-126C194.96,-126 204.05,-126 212.3,-126\"/>\n<polygon fill=\"black\" stroke=\"black\" points=\"212.23,-129.5 222.23,-126 212.23,-122.5 212.23,-129.5\"/>\n</g>\n<!-- 2097539293168 -->\n<g id=\"node14\" class=\"node\">\n<title>2097539293168</title>\n<polygon fill=\"none\" stroke=\"black\" points=\"515,-90 314,-90 314,-54 515,-54 515,-90\"/>\n<text text-anchor=\"middle\" x=\"414.5\" y=\"-68.3\" font-family=\"Times New Roman,serif\" font-size=\"14.00\">x1w1 | data &#45;3.0000 | grad 0.0017</text>\n</g>\n<!-- 2097539293168&#45;&gt;2097539292496+ -->\n<g id=\"edge12\" class=\"edge\">\n<title>2097539293168&#45;&gt;2097539292496+</title>\n<path fill=\"none\" stroke=\"black\" d=\"M515.48,-88.72C524.12,-90.16 532.45,-91.55 540.04,-92.82\"/>\n<polygon fill=\"black\" stroke=\"black\" points=\"539.36,-96.26 549.8,-94.45 540.51,-89.35 539.36,-96.26\"/>\n</g>\n<!-- 2097539293168*&#45;&gt;2097539293168 -->\n<g id=\"edge5\" class=\"edge\">\n<title>2097539293168*&#45;&gt;2097539293168</title>\n<path fill=\"none\" stroke=\"black\" d=\"M278.31,-72C285.41,-72 293.56,-72 302.27,-72\"/>\n<polygon fill=\"black\" stroke=\"black\" points=\"302.04,-75.5 312.04,-72 302.04,-68.5 302.04,-75.5\"/>\n</g>\n</g>\n</svg>\n",
      "text/plain": [
       "<graphviz.graphs.Digraph at 0x1e85f2c6b30>"
      ]
     },
     "execution_count": 29,
     "metadata": {},
     "output_type": "execute_result"
    }
   ],
   "source": [
    "draw_dot(o)"
   ]
  },
  {
   "cell_type": "code",
   "execution_count": 30,
   "metadata": {},
   "outputs": [
    {
     "name": "stderr",
     "output_type": "stream",
     "text": [
      "Warning: using box for unknown shape recod\n"
     ]
    },
    {
     "data": {
      "image/svg+xml": "<?xml version=\"1.0\" encoding=\"UTF-8\" standalone=\"no\"?>\n<!DOCTYPE svg PUBLIC \"-//W3C//DTD SVG 1.1//EN\"\n \"http://www.w3.org/Graphics/SVG/1.1/DTD/svg11.dtd\">\n<!-- Generated by graphviz version 7.1.0 (20230121.1956)\n -->\n<!-- Pages: 1 -->\n<svg width=\"2848pt\" height=\"233pt\"\n viewBox=\"0.00 0.00 2848.00 233.00\" xmlns=\"http://www.w3.org/2000/svg\" xmlns:xlink=\"http://www.w3.org/1999/xlink\">\n<g id=\"graph0\" class=\"graph\" transform=\"scale(1 1) rotate(0) translate(4 229)\">\n<polygon fill=\"white\" stroke=\"none\" points=\"-4,4 -4,-229 2844,-229 2844,4 -4,4\"/>\n<!-- 2097539671584 -->\n<g id=\"node1\" class=\"node\">\n<title>2097539671584</title>\n<polygon fill=\"none\" stroke=\"black\" points=\"184,-225 4,-225 4,-189 184,-189 184,-225\"/>\n<text text-anchor=\"middle\" x=\"94\" y=\"-203.3\" font-family=\"Times New Roman,serif\" font-size=\"14.00\">x2 | data 0.0000 | grad 0.0017</text>\n</g>\n<!-- 2097539290096* -->\n<g id=\"node28\" class=\"node\">\n<title>2097539290096*</title>\n<ellipse fill=\"none\" stroke=\"black\" cx=\"251\" cy=\"-153\" rx=\"27\" ry=\"18\"/>\n<text text-anchor=\"middle\" x=\"251\" y=\"-149.3\" font-family=\"Times New Roman,serif\" font-size=\"14.00\">*</text>\n</g>\n<!-- 2097539671584&#45;&gt;2097539290096* -->\n<g id=\"edge20\" class=\"edge\">\n<title>2097539671584&#45;&gt;2097539290096*</title>\n<path fill=\"none\" stroke=\"black\" d=\"M162.38,-188.55C171.06,-185.85 179.78,-182.97 188,-180 197.87,-176.44 208.4,-172.07 217.93,-167.9\"/>\n<polygon fill=\"black\" stroke=\"black\" points=\"219.1,-171.21 226.8,-163.94 216.24,-164.82 219.1,-171.21\"/>\n</g>\n<!-- 2097539288560 -->\n<g id=\"node2\" class=\"node\">\n<title>2097539288560</title>\n<polygon fill=\"none\" stroke=\"black\" points=\"2540,-115 2353,-115 2353,-79 2540,-79 2540,-115\"/>\n<text text-anchor=\"middle\" x=\"2446.5\" y=\"-93.3\" font-family=\"Times New Roman,serif\" font-size=\"14.00\"> | data 0.0004 | grad 2350.3553</text>\n</g>\n<!-- 2097539291104* -->\n<g id=\"node26\" class=\"node\">\n<title>2097539291104*</title>\n<ellipse fill=\"none\" stroke=\"black\" cx=\"2603\" cy=\"-72\" rx=\"27\" ry=\"18\"/>\n<text text-anchor=\"middle\" x=\"2603\" y=\"-68.3\" font-family=\"Times New Roman,serif\" font-size=\"14.00\">*</text>\n</g>\n<!-- 2097539288560&#45;&gt;2097539291104* -->\n<g id=\"edge25\" class=\"edge\">\n<title>2097539288560&#45;&gt;2097539291104*</title>\n<path fill=\"none\" stroke=\"black\" d=\"M2540.49,-81.95C2549.13,-80.55 2557.5,-79.2 2565.13,-77.97\"/>\n<polygon fill=\"black\" stroke=\"black\" points=\"2565.65,-81.43 2574.96,-76.37 2564.53,-74.52 2565.65,-81.43\"/>\n</g>\n<!-- 2097539288560**&#45;1 -->\n<g id=\"node3\" class=\"node\">\n<title>2097539288560**&#45;1</title>\n<ellipse fill=\"none\" stroke=\"black\" cx=\"2223.5\" cy=\"-99\" rx=\"27\" ry=\"18\"/>\n<text text-anchor=\"middle\" x=\"2223.5\" y=\"-95.3\" font-family=\"Times New Roman,serif\" font-size=\"14.00\">**&#45;1</text>\n</g>\n<!-- 2097539288560**&#45;1&#45;&gt;2097539288560 -->\n<g id=\"edge1\" class=\"edge\">\n<title>2097539288560**&#45;1&#45;&gt;2097539288560</title>\n<path fill=\"none\" stroke=\"black\" d=\"M2250.72,-98.76C2273.42,-98.56 2307.81,-98.25 2341.4,-97.94\"/>\n<polygon fill=\"black\" stroke=\"black\" points=\"2341.27,-101.44 2351.24,-97.85 2341.2,-94.44 2341.27,-101.44\"/>\n</g>\n<!-- 2097539674176 -->\n<g id=\"node4\" class=\"node\">\n<title>2097539674176</title>\n<polygon fill=\"none\" stroke=\"black\" points=\"188,-117 0,-117 0,-81 188,-81 188,-117\"/>\n<text text-anchor=\"middle\" x=\"94\" y=\"-95.3\" font-family=\"Times New Roman,serif\" font-size=\"14.00\">w1 | data &#45;3.0000 | grad 0.0017</text>\n</g>\n<!-- 2097539297056* -->\n<g id=\"node13\" class=\"node\">\n<title>2097539297056*</title>\n<ellipse fill=\"none\" stroke=\"black\" cx=\"251\" cy=\"-99\" rx=\"27\" ry=\"18\"/>\n<text text-anchor=\"middle\" x=\"251\" y=\"-95.3\" font-family=\"Times New Roman,serif\" font-size=\"14.00\">*</text>\n</g>\n<!-- 2097539674176&#45;&gt;2097539297056* -->\n<g id=\"edge17\" class=\"edge\">\n<title>2097539674176&#45;&gt;2097539297056*</title>\n<path fill=\"none\" stroke=\"black\" d=\"M188.29,-99C196.69,-99 204.83,-99 212.3,-99\"/>\n<polygon fill=\"black\" stroke=\"black\" points=\"212.26,-102.5 222.26,-99 212.26,-95.5 212.26,-102.5\"/>\n</g>\n<!-- 2097539292256 -->\n<g id=\"node5\" class=\"node\">\n<title>2097539292256</title>\n<polygon fill=\"none\" stroke=\"black\" points=\"186.5,-63 1.5,-63 1.5,-27 186.5,-27 186.5,-63\"/>\n<text text-anchor=\"middle\" x=\"94\" y=\"-41.3\" font-family=\"Times New Roman,serif\" font-size=\"14.00\">x1 | data 1.0000 | grad &#45;0.0051</text>\n</g>\n<!-- 2097539292256&#45;&gt;2097539297056* -->\n<g id=\"edge18\" class=\"edge\">\n<title>2097539292256&#45;&gt;2097539297056*</title>\n<path fill=\"none\" stroke=\"black\" d=\"M162.38,-63.45C171.06,-66.15 179.78,-69.03 188,-72 197.87,-75.56 208.4,-79.93 217.93,-84.1\"/>\n<polygon fill=\"black\" stroke=\"black\" points=\"216.24,-87.18 226.8,-88.06 219.1,-80.79 216.24,-87.18\"/>\n</g>\n<!-- 2097539286640 -->\n<g id=\"node6\" class=\"node\">\n<title>2097539286640</title>\n<polygon fill=\"none\" stroke=\"black\" points=\"1464,-90 1297,-90 1297,-54 1464,-54 1464,-90\"/>\n<text text-anchor=\"middle\" x=\"1380.5\" y=\"-68.3\" font-family=\"Times New Roman,serif\" font-size=\"14.00\"> | data 7.7627 | grad 0.0008</text>\n</g>\n<!-- 2097539286400exp -->\n<g id=\"node22\" class=\"node\">\n<title>2097539286400exp</title>\n<ellipse fill=\"none\" stroke=\"black\" cx=\"1527\" cy=\"-72\" rx=\"27\" ry=\"18\"/>\n<text text-anchor=\"middle\" x=\"1527\" y=\"-68.3\" font-family=\"Times New Roman,serif\" font-size=\"14.00\">exp</text>\n</g>\n<!-- 2097539286640&#45;&gt;2097539286400exp -->\n<g id=\"edge13\" class=\"edge\">\n<title>2097539286640&#45;&gt;2097539286400exp</title>\n<path fill=\"none\" stroke=\"black\" d=\"M1464.3,-72C1472.56,-72 1480.63,-72 1488.07,-72\"/>\n<polygon fill=\"black\" stroke=\"black\" points=\"1488.03,-75.5 1498.03,-72 1488.03,-68.5 1488.03,-75.5\"/>\n</g>\n<!-- 2097539286640* -->\n<g id=\"node7\" class=\"node\">\n<title>2097539286640*</title>\n<ellipse fill=\"none\" stroke=\"black\" cx=\"1234\" cy=\"-72\" rx=\"27\" ry=\"18\"/>\n<text text-anchor=\"middle\" x=\"1234\" y=\"-68.3\" font-family=\"Times New Roman,serif\" font-size=\"14.00\">*</text>\n</g>\n<!-- 2097539286640*&#45;&gt;2097539286640 -->\n<g id=\"edge2\" class=\"edge\">\n<title>2097539286640*&#45;&gt;2097539286640</title>\n<path fill=\"none\" stroke=\"black\" d=\"M1261.17,-72C1268.37,-72 1276.63,-72 1285.35,-72\"/>\n<polygon fill=\"black\" stroke=\"black\" points=\"1285.1,-75.5 1295.1,-72 1285.1,-68.5 1285.1,-75.5\"/>\n</g>\n<!-- 2097539288752 -->\n<g id=\"node8\" class=\"node\">\n<title>2097539288752</title>\n<polygon fill=\"none\" stroke=\"black\" points=\"872,-144 641,-144 641,-108 872,-108 872,-144\"/>\n<text text-anchor=\"middle\" x=\"756.5\" y=\"-122.3\" font-family=\"Times New Roman,serif\" font-size=\"14.00\">x1w1x2w2 | data &#45;3.0000 | grad 0.0017</text>\n</g>\n<!-- 2097539288896+ -->\n<g id=\"node16\" class=\"node\">\n<title>2097539288896+</title>\n<ellipse fill=\"none\" stroke=\"black\" cx=\"935\" cy=\"-99\" rx=\"27\" ry=\"18\"/>\n<text text-anchor=\"middle\" x=\"935\" y=\"-95.3\" font-family=\"Times New Roman,serif\" font-size=\"14.00\">+</text>\n</g>\n<!-- 2097539288752&#45;&gt;2097539288896+ -->\n<g id=\"edge15\" class=\"edge\">\n<title>2097539288752&#45;&gt;2097539288896+</title>\n<path fill=\"none\" stroke=\"black\" d=\"M872.27,-108.44C881,-107.11 889.34,-105.83 896.92,-104.67\"/>\n<polygon fill=\"black\" stroke=\"black\" points=\"897.29,-108.16 906.64,-103.18 896.23,-101.24 897.29,-108.16\"/>\n</g>\n<!-- 2097539288752+ -->\n<g id=\"node9\" class=\"node\">\n<title>2097539288752+</title>\n<ellipse fill=\"none\" stroke=\"black\" cx=\"578\" cy=\"-126\" rx=\"27\" ry=\"18\"/>\n<text text-anchor=\"middle\" x=\"578\" y=\"-122.3\" font-family=\"Times New Roman,serif\" font-size=\"14.00\">+</text>\n</g>\n<!-- 2097539288752+&#45;&gt;2097539288752 -->\n<g id=\"edge3\" class=\"edge\">\n<title>2097539288752+&#45;&gt;2097539288752</title>\n<path fill=\"none\" stroke=\"black\" d=\"M605.42,-126C612.46,-126 620.54,-126 629.23,-126\"/>\n<polygon fill=\"black\" stroke=\"black\" points=\"629.02,-129.5 639.02,-126 629.02,-122.5 629.02,-129.5\"/>\n</g>\n<!-- 2097539298784 -->\n<g id=\"node10\" class=\"node\">\n<title>2097539298784</title>\n<polygon fill=\"none\" stroke=\"black\" points=\"2094,-117 1903,-117 1903,-81 2094,-81 2094,-117\"/>\n<text text-anchor=\"middle\" x=\"1998.5\" y=\"-95.3\" font-family=\"Times New Roman,serif\" font-size=\"14.00\"> | data 2352.3553 | grad &#45;0.0004</text>\n</g>\n<!-- 2097539298784&#45;&gt;2097539288560**&#45;1 -->\n<g id=\"edge26\" class=\"edge\">\n<title>2097539298784&#45;&gt;2097539288560**&#45;1</title>\n<path fill=\"none\" stroke=\"black\" d=\"M2094.4,-99C2126.18,-99 2159.81,-99 2184.63,-99\"/>\n<polygon fill=\"black\" stroke=\"black\" points=\"2184.55,-102.5 2194.55,-99 2184.55,-95.5 2184.55,-102.5\"/>\n</g>\n<!-- 2097539298784+ -->\n<g id=\"node11\" class=\"node\">\n<title>2097539298784+</title>\n<ellipse fill=\"none\" stroke=\"black\" cx=\"1840\" cy=\"-99\" rx=\"27\" ry=\"18\"/>\n<text text-anchor=\"middle\" x=\"1840\" y=\"-95.3\" font-family=\"Times New Roman,serif\" font-size=\"14.00\">+</text>\n</g>\n<!-- 2097539298784+&#45;&gt;2097539298784 -->\n<g id=\"edge4\" class=\"edge\">\n<title>2097539298784+&#45;&gt;2097539298784</title>\n<path fill=\"none\" stroke=\"black\" d=\"M1867.19,-99C1874.35,-99 1882.57,-99 1891.33,-99\"/>\n<polygon fill=\"black\" stroke=\"black\" points=\"1891.16,-102.5 1901.16,-99 1891.16,-95.5 1891.16,-102.5\"/>\n</g>\n<!-- 2097539297056 -->\n<g id=\"node12\" class=\"node\">\n<title>2097539297056</title>\n<polygon fill=\"none\" stroke=\"black\" points=\"515,-117 314,-117 314,-81 515,-81 515,-117\"/>\n<text text-anchor=\"middle\" x=\"414.5\" y=\"-95.3\" font-family=\"Times New Roman,serif\" font-size=\"14.00\">x1w1 | data &#45;3.0000 | grad 0.0017</text>\n</g>\n<!-- 2097539297056&#45;&gt;2097539288752+ -->\n<g id=\"edge16\" class=\"edge\">\n<title>2097539297056&#45;&gt;2097539288752+</title>\n<path fill=\"none\" stroke=\"black\" d=\"M515.48,-115.72C524.12,-117.16 532.45,-118.55 540.04,-119.82\"/>\n<polygon fill=\"black\" stroke=\"black\" points=\"539.36,-123.26 549.8,-121.45 540.51,-116.35 539.36,-123.26\"/>\n</g>\n<!-- 2097539297056*&#45;&gt;2097539297056 -->\n<g id=\"edge5\" class=\"edge\">\n<title>2097539297056*&#45;&gt;2097539297056</title>\n<path fill=\"none\" stroke=\"black\" d=\"M278.31,-99C285.41,-99 293.56,-99 302.27,-99\"/>\n<polygon fill=\"black\" stroke=\"black\" points=\"302.04,-102.5 312.04,-99 302.04,-95.5 302.04,-102.5\"/>\n</g>\n<!-- 2097539298688 -->\n<g id=\"node14\" class=\"node\">\n<title>2097539298688</title>\n<polygon fill=\"none\" stroke=\"black\" points=\"1769,-36 1598,-36 1598,0 1769,0 1769,-36\"/>\n<text text-anchor=\"middle\" x=\"1683.5\" y=\"-14.3\" font-family=\"Times New Roman,serif\" font-size=\"14.00\"> | data &#45;1.0000 | grad 0.0004</text>\n</g>\n<!-- 2097539289952+ -->\n<g id=\"node19\" class=\"node\">\n<title>2097539289952+</title>\n<ellipse fill=\"none\" stroke=\"black\" cx=\"1840\" cy=\"-45\" rx=\"27\" ry=\"18\"/>\n<text text-anchor=\"middle\" x=\"1840\" y=\"-41.3\" font-family=\"Times New Roman,serif\" font-size=\"14.00\">+</text>\n</g>\n<!-- 2097539298688&#45;&gt;2097539289952+ -->\n<g id=\"edge24\" class=\"edge\">\n<title>2097539298688&#45;&gt;2097539289952+</title>\n<path fill=\"none\" stroke=\"black\" d=\"M1769.43,-32.84C1781.03,-34.87 1792.38,-36.85 1802.45,-38.61\"/>\n<polygon fill=\"black\" stroke=\"black\" points=\"1801.67,-42.03 1812.12,-40.3 1802.87,-35.13 1801.67,-42.03\"/>\n</g>\n<!-- 2097539288896 -->\n<g id=\"node15\" class=\"node\">\n<title>2097539288896</title>\n<polygon fill=\"none\" stroke=\"black\" points=\"1171,-117 998,-117 998,-81 1171,-81 1171,-117\"/>\n<text text-anchor=\"middle\" x=\"1084.5\" y=\"-95.3\" font-family=\"Times New Roman,serif\" font-size=\"14.00\">n | data 3.8814 | grad 0.0017</text>\n</g>\n<!-- 2097539288896&#45;&gt;2097539286640* -->\n<g id=\"edge14\" class=\"edge\">\n<title>2097539288896&#45;&gt;2097539286640*</title>\n<path fill=\"none\" stroke=\"black\" d=\"M1171.3,-83.29C1180.06,-81.69 1188.58,-80.13 1196.35,-78.71\"/>\n<polygon fill=\"black\" stroke=\"black\" points=\"1196.82,-82.18 1206.03,-76.94 1195.56,-75.29 1196.82,-82.18\"/>\n</g>\n<!-- 2097539288896+&#45;&gt;2097539288896 -->\n<g id=\"edge6\" class=\"edge\">\n<title>2097539288896+&#45;&gt;2097539288896</title>\n<path fill=\"none\" stroke=\"black\" d=\"M962.37,-99C969.46,-99 977.56,-99 986.13,-99\"/>\n<polygon fill=\"black\" stroke=\"black\" points=\"986.12,-102.5 996.12,-99 986.12,-95.5 986.12,-102.5\"/>\n</g>\n<!-- 2097539293504 -->\n<g id=\"node17\" class=\"node\">\n<title>2097539293504</title>\n<polygon fill=\"none\" stroke=\"black\" points=\"1168,-63 1001,-63 1001,-27 1168,-27 1168,-63\"/>\n<text text-anchor=\"middle\" x=\"1084.5\" y=\"-41.3\" font-family=\"Times New Roman,serif\" font-size=\"14.00\"> | data 2.0000 | grad 0.0033</text>\n</g>\n<!-- 2097539293504&#45;&gt;2097539286640* -->\n<g id=\"edge23\" class=\"edge\">\n<title>2097539293504&#45;&gt;2097539286640*</title>\n<path fill=\"none\" stroke=\"black\" d=\"M1168.3,-60.16C1178.15,-61.96 1187.77,-63.72 1196.46,-65.31\"/>\n<polygon fill=\"black\" stroke=\"black\" points=\"1195.71,-68.73 1206.17,-67.09 1196.97,-61.85 1195.71,-68.73\"/>\n</g>\n<!-- 2097539289952 -->\n<g id=\"node18\" class=\"node\">\n<title>2097539289952</title>\n<polygon fill=\"none\" stroke=\"black\" points=\"2317,-63 2130,-63 2130,-27 2317,-27 2317,-63\"/>\n<text text-anchor=\"middle\" x=\"2223.5\" y=\"-41.3\" font-family=\"Times New Roman,serif\" font-size=\"14.00\"> | data 2350.3553 | grad 0.0004</text>\n</g>\n<!-- 2097539289952&#45;&gt;2097539291104* -->\n<g id=\"edge11\" class=\"edge\">\n<title>2097539289952&#45;&gt;2097539291104*</title>\n<path fill=\"none\" stroke=\"black\" d=\"M2317.33,-51.64C2396.82,-57.32 2507.21,-65.22 2564.36,-69.31\"/>\n<polygon fill=\"black\" stroke=\"black\" points=\"2563.98,-72.79 2574.21,-70.01 2564.48,-65.81 2563.98,-72.79\"/>\n</g>\n<!-- 2097539289952+&#45;&gt;2097539289952 -->\n<g id=\"edge7\" class=\"edge\">\n<title>2097539289952+&#45;&gt;2097539289952</title>\n<path fill=\"none\" stroke=\"black\" d=\"M1867.22,-45C1918.13,-45 2032.85,-45 2118.24,-45\"/>\n<polygon fill=\"black\" stroke=\"black\" points=\"2118.04,-48.5 2128.04,-45 2118.04,-41.5 2118.04,-48.5\"/>\n</g>\n<!-- 2097539293024 -->\n<g id=\"node20\" class=\"node\">\n<title>2097539293024</title>\n<polygon fill=\"none\" stroke=\"black\" points=\"185.5,-171 2.5,-171 2.5,-135 185.5,-135 185.5,-171\"/>\n<text text-anchor=\"middle\" x=\"94\" y=\"-149.3\" font-family=\"Times New Roman,serif\" font-size=\"14.00\">w2 | data 1.0000 | grad 0.0000</text>\n</g>\n<!-- 2097539293024&#45;&gt;2097539290096* -->\n<g id=\"edge21\" class=\"edge\">\n<title>2097539293024&#45;&gt;2097539290096*</title>\n<path fill=\"none\" stroke=\"black\" d=\"M185.61,-153C194.96,-153 204.05,-153 212.3,-153\"/>\n<polygon fill=\"black\" stroke=\"black\" points=\"212.23,-156.5 222.23,-153 212.23,-149.5 212.23,-156.5\"/>\n</g>\n<!-- 2097539286400 -->\n<g id=\"node21\" class=\"node\">\n<title>2097539286400</title>\n<polygon fill=\"none\" stroke=\"black\" points=\"1777,-90 1590,-90 1590,-54 1777,-54 1777,-90\"/>\n<text text-anchor=\"middle\" x=\"1683.5\" y=\"-68.3\" font-family=\"Times New Roman,serif\" font-size=\"14.00\"> | data 2351.3553 | grad 0.0000</text>\n</g>\n<!-- 2097539286400&#45;&gt;2097539298784+ -->\n<g id=\"edge27\" class=\"edge\">\n<title>2097539286400&#45;&gt;2097539298784+</title>\n<path fill=\"none\" stroke=\"black\" d=\"M1777.49,-88.25C1786.13,-89.76 1794.5,-91.22 1802.13,-92.56\"/>\n<polygon fill=\"black\" stroke=\"black\" points=\"1801.51,-96 1811.97,-94.28 1802.72,-89.11 1801.51,-96\"/>\n</g>\n<!-- 2097539286400&#45;&gt;2097539289952+ -->\n<g id=\"edge12\" class=\"edge\">\n<title>2097539286400&#45;&gt;2097539289952+</title>\n<path fill=\"none\" stroke=\"black\" d=\"M1777.49,-55.75C1786.13,-54.24 1794.5,-52.78 1802.13,-51.44\"/>\n<polygon fill=\"black\" stroke=\"black\" points=\"1802.72,-54.89 1811.97,-49.72 1801.51,-48 1802.72,-54.89\"/>\n</g>\n<!-- 2097539286400exp&#45;&gt;2097539286400 -->\n<g id=\"edge8\" class=\"edge\">\n<title>2097539286400exp&#45;&gt;2097539286400</title>\n<path fill=\"none\" stroke=\"black\" d=\"M1554.21,-72C1561.35,-72 1569.55,-72 1578.27,-72\"/>\n<polygon fill=\"black\" stroke=\"black\" points=\"1578.04,-75.5 1588.04,-72 1578.04,-68.5 1578.04,-75.5\"/>\n</g>\n<!-- 2097539300224 -->\n<g id=\"node23\" class=\"node\">\n<title>2097539300224</title>\n<polygon fill=\"none\" stroke=\"black\" points=\"1769,-144 1598,-144 1598,-108 1769,-108 1769,-144\"/>\n<text text-anchor=\"middle\" x=\"1683.5\" y=\"-122.3\" font-family=\"Times New Roman,serif\" font-size=\"14.00\"> | data 1.0000 | grad &#45;0.0004</text>\n</g>\n<!-- 2097539300224&#45;&gt;2097539298784+ -->\n<g id=\"edge28\" class=\"edge\">\n<title>2097539300224&#45;&gt;2097539298784+</title>\n<path fill=\"none\" stroke=\"black\" d=\"M1769.43,-111.16C1781.03,-109.13 1792.38,-107.15 1802.45,-105.39\"/>\n<polygon fill=\"black\" stroke=\"black\" points=\"1802.87,-108.87 1812.12,-103.7 1801.67,-101.97 1802.87,-108.87\"/>\n</g>\n<!-- 2097539287504 -->\n<g id=\"node24\" class=\"node\">\n<title>2097539287504</title>\n<polygon fill=\"none\" stroke=\"black\" points=\"843.5,-90 669.5,-90 669.5,-54 843.5,-54 843.5,-90\"/>\n<text text-anchor=\"middle\" x=\"756.5\" y=\"-68.3\" font-family=\"Times New Roman,serif\" font-size=\"14.00\">b | data 6.8814 | grad 0.0017</text>\n</g>\n<!-- 2097539287504&#45;&gt;2097539288896+ -->\n<g id=\"edge22\" class=\"edge\">\n<title>2097539287504&#45;&gt;2097539288896+</title>\n<path fill=\"none\" stroke=\"black\" d=\"M843.94,-85.22C862.73,-88.1 881.63,-90.99 897.24,-93.38\"/>\n<polygon fill=\"black\" stroke=\"black\" points=\"896.56,-96.81 906.97,-94.87 897.61,-89.89 896.56,-96.81\"/>\n</g>\n<!-- 2097539291104 -->\n<g id=\"node25\" class=\"node\">\n<title>2097539291104</title>\n<polygon fill=\"none\" stroke=\"black\" points=\"2840,-90 2666,-90 2666,-54 2840,-54 2840,-90\"/>\n<text text-anchor=\"middle\" x=\"2753\" y=\"-68.3\" font-family=\"Times New Roman,serif\" font-size=\"14.00\">o | data 0.9991 | grad 1.0000</text>\n</g>\n<!-- 2097539291104*&#45;&gt;2097539291104 -->\n<g id=\"edge9\" class=\"edge\">\n<title>2097539291104*&#45;&gt;2097539291104</title>\n<path fill=\"none\" stroke=\"black\" d=\"M2630.46,-72C2637.51,-72 2645.56,-72 2654.09,-72\"/>\n<polygon fill=\"black\" stroke=\"black\" points=\"2654.02,-75.5 2664.02,-72 2654.02,-68.5 2654.02,-75.5\"/>\n</g>\n<!-- 2097539290096 -->\n<g id=\"node27\" class=\"node\">\n<title>2097539290096</title>\n<polygon fill=\"none\" stroke=\"black\" points=\"513,-171 316,-171 316,-135 513,-135 513,-171\"/>\n<text text-anchor=\"middle\" x=\"414.5\" y=\"-149.3\" font-family=\"Times New Roman,serif\" font-size=\"14.00\">x2w2 | data 0.0000 | grad 0.0017</text>\n</g>\n<!-- 2097539290096&#45;&gt;2097539288752+ -->\n<g id=\"edge19\" class=\"edge\">\n<title>2097539290096&#45;&gt;2097539288752+</title>\n<path fill=\"none\" stroke=\"black\" d=\"M513.17,-136.67C522.74,-135.07 531.98,-133.53 540.32,-132.13\"/>\n<polygon fill=\"black\" stroke=\"black\" points=\"540.66,-135.62 549.95,-130.52 539.51,-128.72 540.66,-135.62\"/>\n</g>\n<!-- 2097539290096*&#45;&gt;2097539290096 -->\n<g id=\"edge10\" class=\"edge\">\n<title>2097539290096*&#45;&gt;2097539290096</title>\n<path fill=\"none\" stroke=\"black\" d=\"M278.31,-153C285.95,-153 294.82,-153 304.28,-153\"/>\n<polygon fill=\"black\" stroke=\"black\" points=\"304.11,-156.5 314.11,-153 304.11,-149.5 304.11,-156.5\"/>\n</g>\n</g>\n</svg>\n",
      "text/plain": [
       "<graphviz.graphs.Digraph at 0x1e85f15b100>"
      ]
     },
     "execution_count": 30,
     "metadata": {},
     "output_type": "execute_result"
    }
   ],
   "source": [
    "# input x1, x2\n",
    "x1 = Value(1.0, label='x1')\n",
    "x2 = Value(0.0, label='x2')\n",
    "\n",
    "# weight w1, w2\n",
    "w1 = Value(-3.0, label='w1')\n",
    "w2 = Value(1.0, label='w2')\n",
    "\n",
    "# bias of the neuron\n",
    "b = Value(6.881373587019432, label='b')\n",
    "\n",
    "# x1*w1 + x2*w2 + b\n",
    "x1w1 = x1 * w1; x1w1.label = 'x1w1'\n",
    "x2w2 = x2 * w2; x2w2.label = 'x2w2'\n",
    "x1w1x2w2 = x1w1 + x2w2; x1w1x2w2.label = 'x1w1x2w2'\n",
    "n = x1w1x2w2 + b; n.label = 'n'\n",
    "#------\n",
    "\n",
    "e = (2*n).exp()\n",
    "o = (e - 1) / ( e + 1)\n",
    "\n",
    "#--------\n",
    "\n",
    "o.label = 'o'\n",
    "o.backward()\n",
    "draw_dot(o)"
   ]
  },
  {
   "cell_type": "code",
   "execution_count": null,
   "metadata": {},
   "outputs": [],
   "source": []
  },
  {
   "cell_type": "code",
   "execution_count": null,
   "metadata": {},
   "outputs": [],
   "source": []
  }
 ],
 "metadata": {
  "kernelspec": {
   "display_name": "monai",
   "language": "python",
   "name": "python3"
  },
  "language_info": {
   "codemirror_mode": {
    "name": "ipython",
    "version": 3
   },
   "file_extension": ".py",
   "mimetype": "text/x-python",
   "name": "python",
   "nbconvert_exporter": "python",
   "pygments_lexer": "ipython3",
   "version": "3.10.6"
  },
  "orig_nbformat": 4,
  "vscode": {
   "interpreter": {
    "hash": "e21402f43875f5569f3df54104f19551925d990f816aafe3db5bccc29e096f43"
   }
  }
 },
 "nbformat": 4,
 "nbformat_minor": 2
}
